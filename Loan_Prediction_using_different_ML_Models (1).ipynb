{
  "nbformat": 4,
  "nbformat_minor": 0,
  "metadata": {
    "colab": {
      "name": " Loan Prediction using different ML Models",
      "provenance": []
    },
    "kernelspec": {
      "name": "python3",
      "display_name": "Python 3"
    },
    "language_info": {
      "name": "python"
    }
  },
  "cells": [
    {
      "cell_type": "code",
      "execution_count": 170,
      "metadata": {
        "id": "DLO3AyBKfT9P"
      },
      "outputs": [],
      "source": [
        "import numpy as np\n",
        "import pandas as pd\n",
        "import matplotlib.pyplot as plt\n",
        "%matplotlib inline\n",
        "import missingno as mso\n",
        "import seaborn as sns\n",
        "import os\n",
        "import warnings\n",
        "warnings.filterwarnings(\"ignore\") \n",
        "import scipy\n",
        "\n",
        "from scipy import stats\n",
        "from scipy.stats import pearsonr\n",
        "from scipy.stats import ttest_ind\n",
        "from sklearn.metrics import classification_report\n",
        "from sklearn.metrics import confusion_matrix\n",
        "from sklearn.preprocessing import MinMaxScaler\n",
        "from sklearn.model_selection import train_test_split\n",
        "from imblearn.over_sampling import SMOTE\n",
        "\n",
        "from sklearn.linear_model import LogisticRegression\n",
        "from sklearn.neighbors import KNeighborsClassifier\n",
        "from sklearn.svm import SVC\n",
        "from sklearn.naive_bayes import CategoricalNB\n",
        "from sklearn.naive_bayes import GaussianNB\n",
        "from sklearn.tree import DecisionTreeClassifier\n",
        "from sklearn.ensemble import RandomForestClassifier\n",
        "from sklearn.ensemble import GradientBoostingClassifier\n",
        "from xgboost import XGBClassifier\n",
        "from sklearn.model_selection import GridSearchCV, RandomizedSearchCV\n"
      ]
    },
    {
      "cell_type": "code",
      "source": [
        "df = pd.read_csv('/content/kaggle_dataset.csv')\n",
        "pd.set_option('display.max_columns', None)\n",
        "df.head()"
      ],
      "metadata": {
        "colab": {
          "base_uri": "https://localhost:8080/",
          "height": 206
        },
        "id": "RkwP7PB8iJLn",
        "outputId": "4f219bc9-b7a4-4e0f-b0f5-eedcdbe9a25b"
      },
      "execution_count": 171,
      "outputs": [
        {
          "output_type": "execute_result",
          "data": {
            "text/plain": [
              "    Loan_ID Gender Married Dependents     Education Self_Employed  \\\n",
              "0  LP001002   Male      No          0      Graduate            No   \n",
              "1  LP001003   Male     Yes          1      Graduate            No   \n",
              "2  LP001005   Male     Yes          0      Graduate           Yes   \n",
              "3  LP001006   Male     Yes          0  Not Graduate            No   \n",
              "4  LP001008   Male      No          0      Graduate            No   \n",
              "\n",
              "   ApplicantIncome  CoapplicantIncome  LoanAmount  Loan_Amount_Term  \\\n",
              "0             5849                0.0         NaN             360.0   \n",
              "1             4583             1508.0       128.0             360.0   \n",
              "2             3000                0.0        66.0             360.0   \n",
              "3             2583             2358.0       120.0             360.0   \n",
              "4             6000                0.0       141.0             360.0   \n",
              "\n",
              "   Credit_History Property_Area Loan_Status  \n",
              "0             1.0         Urban           Y  \n",
              "1             1.0         Rural           N  \n",
              "2             1.0         Urban           Y  \n",
              "3             1.0         Urban           Y  \n",
              "4             1.0         Urban           Y  "
            ],
            "text/html": [
              "\n",
              "  <div id=\"df-001b31d0-1cd7-4e77-956b-1e732ef31ce5\">\n",
              "    <div class=\"colab-df-container\">\n",
              "      <div>\n",
              "<style scoped>\n",
              "    .dataframe tbody tr th:only-of-type {\n",
              "        vertical-align: middle;\n",
              "    }\n",
              "\n",
              "    .dataframe tbody tr th {\n",
              "        vertical-align: top;\n",
              "    }\n",
              "\n",
              "    .dataframe thead th {\n",
              "        text-align: right;\n",
              "    }\n",
              "</style>\n",
              "<table border=\"1\" class=\"dataframe\">\n",
              "  <thead>\n",
              "    <tr style=\"text-align: right;\">\n",
              "      <th></th>\n",
              "      <th>Loan_ID</th>\n",
              "      <th>Gender</th>\n",
              "      <th>Married</th>\n",
              "      <th>Dependents</th>\n",
              "      <th>Education</th>\n",
              "      <th>Self_Employed</th>\n",
              "      <th>ApplicantIncome</th>\n",
              "      <th>CoapplicantIncome</th>\n",
              "      <th>LoanAmount</th>\n",
              "      <th>Loan_Amount_Term</th>\n",
              "      <th>Credit_History</th>\n",
              "      <th>Property_Area</th>\n",
              "      <th>Loan_Status</th>\n",
              "    </tr>\n",
              "  </thead>\n",
              "  <tbody>\n",
              "    <tr>\n",
              "      <th>0</th>\n",
              "      <td>LP001002</td>\n",
              "      <td>Male</td>\n",
              "      <td>No</td>\n",
              "      <td>0</td>\n",
              "      <td>Graduate</td>\n",
              "      <td>No</td>\n",
              "      <td>5849</td>\n",
              "      <td>0.0</td>\n",
              "      <td>NaN</td>\n",
              "      <td>360.0</td>\n",
              "      <td>1.0</td>\n",
              "      <td>Urban</td>\n",
              "      <td>Y</td>\n",
              "    </tr>\n",
              "    <tr>\n",
              "      <th>1</th>\n",
              "      <td>LP001003</td>\n",
              "      <td>Male</td>\n",
              "      <td>Yes</td>\n",
              "      <td>1</td>\n",
              "      <td>Graduate</td>\n",
              "      <td>No</td>\n",
              "      <td>4583</td>\n",
              "      <td>1508.0</td>\n",
              "      <td>128.0</td>\n",
              "      <td>360.0</td>\n",
              "      <td>1.0</td>\n",
              "      <td>Rural</td>\n",
              "      <td>N</td>\n",
              "    </tr>\n",
              "    <tr>\n",
              "      <th>2</th>\n",
              "      <td>LP001005</td>\n",
              "      <td>Male</td>\n",
              "      <td>Yes</td>\n",
              "      <td>0</td>\n",
              "      <td>Graduate</td>\n",
              "      <td>Yes</td>\n",
              "      <td>3000</td>\n",
              "      <td>0.0</td>\n",
              "      <td>66.0</td>\n",
              "      <td>360.0</td>\n",
              "      <td>1.0</td>\n",
              "      <td>Urban</td>\n",
              "      <td>Y</td>\n",
              "    </tr>\n",
              "    <tr>\n",
              "      <th>3</th>\n",
              "      <td>LP001006</td>\n",
              "      <td>Male</td>\n",
              "      <td>Yes</td>\n",
              "      <td>0</td>\n",
              "      <td>Not Graduate</td>\n",
              "      <td>No</td>\n",
              "      <td>2583</td>\n",
              "      <td>2358.0</td>\n",
              "      <td>120.0</td>\n",
              "      <td>360.0</td>\n",
              "      <td>1.0</td>\n",
              "      <td>Urban</td>\n",
              "      <td>Y</td>\n",
              "    </tr>\n",
              "    <tr>\n",
              "      <th>4</th>\n",
              "      <td>LP001008</td>\n",
              "      <td>Male</td>\n",
              "      <td>No</td>\n",
              "      <td>0</td>\n",
              "      <td>Graduate</td>\n",
              "      <td>No</td>\n",
              "      <td>6000</td>\n",
              "      <td>0.0</td>\n",
              "      <td>141.0</td>\n",
              "      <td>360.0</td>\n",
              "      <td>1.0</td>\n",
              "      <td>Urban</td>\n",
              "      <td>Y</td>\n",
              "    </tr>\n",
              "  </tbody>\n",
              "</table>\n",
              "</div>\n",
              "      <button class=\"colab-df-convert\" onclick=\"convertToInteractive('df-001b31d0-1cd7-4e77-956b-1e732ef31ce5')\"\n",
              "              title=\"Convert this dataframe to an interactive table.\"\n",
              "              style=\"display:none;\">\n",
              "        \n",
              "  <svg xmlns=\"http://www.w3.org/2000/svg\" height=\"24px\"viewBox=\"0 0 24 24\"\n",
              "       width=\"24px\">\n",
              "    <path d=\"M0 0h24v24H0V0z\" fill=\"none\"/>\n",
              "    <path d=\"M18.56 5.44l.94 2.06.94-2.06 2.06-.94-2.06-.94-.94-2.06-.94 2.06-2.06.94zm-11 1L8.5 8.5l.94-2.06 2.06-.94-2.06-.94L8.5 2.5l-.94 2.06-2.06.94zm10 10l.94 2.06.94-2.06 2.06-.94-2.06-.94-.94-2.06-.94 2.06-2.06.94z\"/><path d=\"M17.41 7.96l-1.37-1.37c-.4-.4-.92-.59-1.43-.59-.52 0-1.04.2-1.43.59L10.3 9.45l-7.72 7.72c-.78.78-.78 2.05 0 2.83L4 21.41c.39.39.9.59 1.41.59.51 0 1.02-.2 1.41-.59l7.78-7.78 2.81-2.81c.8-.78.8-2.07 0-2.86zM5.41 20L4 18.59l7.72-7.72 1.47 1.35L5.41 20z\"/>\n",
              "  </svg>\n",
              "      </button>\n",
              "      \n",
              "  <style>\n",
              "    .colab-df-container {\n",
              "      display:flex;\n",
              "      flex-wrap:wrap;\n",
              "      gap: 12px;\n",
              "    }\n",
              "\n",
              "    .colab-df-convert {\n",
              "      background-color: #E8F0FE;\n",
              "      border: none;\n",
              "      border-radius: 50%;\n",
              "      cursor: pointer;\n",
              "      display: none;\n",
              "      fill: #1967D2;\n",
              "      height: 32px;\n",
              "      padding: 0 0 0 0;\n",
              "      width: 32px;\n",
              "    }\n",
              "\n",
              "    .colab-df-convert:hover {\n",
              "      background-color: #E2EBFA;\n",
              "      box-shadow: 0px 1px 2px rgba(60, 64, 67, 0.3), 0px 1px 3px 1px rgba(60, 64, 67, 0.15);\n",
              "      fill: #174EA6;\n",
              "    }\n",
              "\n",
              "    [theme=dark] .colab-df-convert {\n",
              "      background-color: #3B4455;\n",
              "      fill: #D2E3FC;\n",
              "    }\n",
              "\n",
              "    [theme=dark] .colab-df-convert:hover {\n",
              "      background-color: #434B5C;\n",
              "      box-shadow: 0px 1px 3px 1px rgba(0, 0, 0, 0.15);\n",
              "      filter: drop-shadow(0px 1px 2px rgba(0, 0, 0, 0.3));\n",
              "      fill: #FFFFFF;\n",
              "    }\n",
              "  </style>\n",
              "\n",
              "      <script>\n",
              "        const buttonEl =\n",
              "          document.querySelector('#df-001b31d0-1cd7-4e77-956b-1e732ef31ce5 button.colab-df-convert');\n",
              "        buttonEl.style.display =\n",
              "          google.colab.kernel.accessAllowed ? 'block' : 'none';\n",
              "\n",
              "        async function convertToInteractive(key) {\n",
              "          const element = document.querySelector('#df-001b31d0-1cd7-4e77-956b-1e732ef31ce5');\n",
              "          const dataTable =\n",
              "            await google.colab.kernel.invokeFunction('convertToInteractive',\n",
              "                                                     [key], {});\n",
              "          if (!dataTable) return;\n",
              "\n",
              "          const docLinkHtml = 'Like what you see? Visit the ' +\n",
              "            '<a target=\"_blank\" href=https://colab.research.google.com/notebooks/data_table.ipynb>data table notebook</a>'\n",
              "            + ' to learn more about interactive tables.';\n",
              "          element.innerHTML = '';\n",
              "          dataTable['output_type'] = 'display_data';\n",
              "          await google.colab.output.renderOutput(dataTable, element);\n",
              "          const docLink = document.createElement('div');\n",
              "          docLink.innerHTML = docLinkHtml;\n",
              "          element.appendChild(docLink);\n",
              "        }\n",
              "      </script>\n",
              "    </div>\n",
              "  </div>\n",
              "  "
            ]
          },
          "metadata": {},
          "execution_count": 171
        }
      ]
    },
    {
      "cell_type": "code",
      "source": [
        "# dropping Unecessary variables\n",
        "df = df.drop(['Loan_ID'], axis = 1)"
      ],
      "metadata": {
        "id": "qq1f4dGMkQsu"
      },
      "execution_count": 172,
      "outputs": []
    },
    {
      "cell_type": "code",
      "source": [
        "# Categorical variables :\n",
        "cat_cols = [c for c in df.columns if df[c].dtypes=='O']\n",
        "df[cat_cols].head()"
      ],
      "metadata": {
        "colab": {
          "base_uri": "https://localhost:8080/",
          "height": 206
        },
        "id": "UoGRlbHDjZxq",
        "outputId": "5993cfbd-0f46-49c3-b29b-6c5d1b29e812"
      },
      "execution_count": 173,
      "outputs": [
        {
          "output_type": "execute_result",
          "data": {
            "text/plain": [
              "  Gender Married Dependents     Education Self_Employed Property_Area  \\\n",
              "0   Male      No          0      Graduate            No         Urban   \n",
              "1   Male     Yes          1      Graduate            No         Rural   \n",
              "2   Male     Yes          0      Graduate           Yes         Urban   \n",
              "3   Male     Yes          0  Not Graduate            No         Urban   \n",
              "4   Male      No          0      Graduate            No         Urban   \n",
              "\n",
              "  Loan_Status  \n",
              "0           Y  \n",
              "1           N  \n",
              "2           Y  \n",
              "3           Y  \n",
              "4           Y  "
            ],
            "text/html": [
              "\n",
              "  <div id=\"df-39f3f0bc-6a83-4600-b1f9-dc654f7f6818\">\n",
              "    <div class=\"colab-df-container\">\n",
              "      <div>\n",
              "<style scoped>\n",
              "    .dataframe tbody tr th:only-of-type {\n",
              "        vertical-align: middle;\n",
              "    }\n",
              "\n",
              "    .dataframe tbody tr th {\n",
              "        vertical-align: top;\n",
              "    }\n",
              "\n",
              "    .dataframe thead th {\n",
              "        text-align: right;\n",
              "    }\n",
              "</style>\n",
              "<table border=\"1\" class=\"dataframe\">\n",
              "  <thead>\n",
              "    <tr style=\"text-align: right;\">\n",
              "      <th></th>\n",
              "      <th>Gender</th>\n",
              "      <th>Married</th>\n",
              "      <th>Dependents</th>\n",
              "      <th>Education</th>\n",
              "      <th>Self_Employed</th>\n",
              "      <th>Property_Area</th>\n",
              "      <th>Loan_Status</th>\n",
              "    </tr>\n",
              "  </thead>\n",
              "  <tbody>\n",
              "    <tr>\n",
              "      <th>0</th>\n",
              "      <td>Male</td>\n",
              "      <td>No</td>\n",
              "      <td>0</td>\n",
              "      <td>Graduate</td>\n",
              "      <td>No</td>\n",
              "      <td>Urban</td>\n",
              "      <td>Y</td>\n",
              "    </tr>\n",
              "    <tr>\n",
              "      <th>1</th>\n",
              "      <td>Male</td>\n",
              "      <td>Yes</td>\n",
              "      <td>1</td>\n",
              "      <td>Graduate</td>\n",
              "      <td>No</td>\n",
              "      <td>Rural</td>\n",
              "      <td>N</td>\n",
              "    </tr>\n",
              "    <tr>\n",
              "      <th>2</th>\n",
              "      <td>Male</td>\n",
              "      <td>Yes</td>\n",
              "      <td>0</td>\n",
              "      <td>Graduate</td>\n",
              "      <td>Yes</td>\n",
              "      <td>Urban</td>\n",
              "      <td>Y</td>\n",
              "    </tr>\n",
              "    <tr>\n",
              "      <th>3</th>\n",
              "      <td>Male</td>\n",
              "      <td>Yes</td>\n",
              "      <td>0</td>\n",
              "      <td>Not Graduate</td>\n",
              "      <td>No</td>\n",
              "      <td>Urban</td>\n",
              "      <td>Y</td>\n",
              "    </tr>\n",
              "    <tr>\n",
              "      <th>4</th>\n",
              "      <td>Male</td>\n",
              "      <td>No</td>\n",
              "      <td>0</td>\n",
              "      <td>Graduate</td>\n",
              "      <td>No</td>\n",
              "      <td>Urban</td>\n",
              "      <td>Y</td>\n",
              "    </tr>\n",
              "  </tbody>\n",
              "</table>\n",
              "</div>\n",
              "      <button class=\"colab-df-convert\" onclick=\"convertToInteractive('df-39f3f0bc-6a83-4600-b1f9-dc654f7f6818')\"\n",
              "              title=\"Convert this dataframe to an interactive table.\"\n",
              "              style=\"display:none;\">\n",
              "        \n",
              "  <svg xmlns=\"http://www.w3.org/2000/svg\" height=\"24px\"viewBox=\"0 0 24 24\"\n",
              "       width=\"24px\">\n",
              "    <path d=\"M0 0h24v24H0V0z\" fill=\"none\"/>\n",
              "    <path d=\"M18.56 5.44l.94 2.06.94-2.06 2.06-.94-2.06-.94-.94-2.06-.94 2.06-2.06.94zm-11 1L8.5 8.5l.94-2.06 2.06-.94-2.06-.94L8.5 2.5l-.94 2.06-2.06.94zm10 10l.94 2.06.94-2.06 2.06-.94-2.06-.94-.94-2.06-.94 2.06-2.06.94z\"/><path d=\"M17.41 7.96l-1.37-1.37c-.4-.4-.92-.59-1.43-.59-.52 0-1.04.2-1.43.59L10.3 9.45l-7.72 7.72c-.78.78-.78 2.05 0 2.83L4 21.41c.39.39.9.59 1.41.59.51 0 1.02-.2 1.41-.59l7.78-7.78 2.81-2.81c.8-.78.8-2.07 0-2.86zM5.41 20L4 18.59l7.72-7.72 1.47 1.35L5.41 20z\"/>\n",
              "  </svg>\n",
              "      </button>\n",
              "      \n",
              "  <style>\n",
              "    .colab-df-container {\n",
              "      display:flex;\n",
              "      flex-wrap:wrap;\n",
              "      gap: 12px;\n",
              "    }\n",
              "\n",
              "    .colab-df-convert {\n",
              "      background-color: #E8F0FE;\n",
              "      border: none;\n",
              "      border-radius: 50%;\n",
              "      cursor: pointer;\n",
              "      display: none;\n",
              "      fill: #1967D2;\n",
              "      height: 32px;\n",
              "      padding: 0 0 0 0;\n",
              "      width: 32px;\n",
              "    }\n",
              "\n",
              "    .colab-df-convert:hover {\n",
              "      background-color: #E2EBFA;\n",
              "      box-shadow: 0px 1px 2px rgba(60, 64, 67, 0.3), 0px 1px 3px 1px rgba(60, 64, 67, 0.15);\n",
              "      fill: #174EA6;\n",
              "    }\n",
              "\n",
              "    [theme=dark] .colab-df-convert {\n",
              "      background-color: #3B4455;\n",
              "      fill: #D2E3FC;\n",
              "    }\n",
              "\n",
              "    [theme=dark] .colab-df-convert:hover {\n",
              "      background-color: #434B5C;\n",
              "      box-shadow: 0px 1px 3px 1px rgba(0, 0, 0, 0.15);\n",
              "      filter: drop-shadow(0px 1px 2px rgba(0, 0, 0, 0.3));\n",
              "      fill: #FFFFFF;\n",
              "    }\n",
              "  </style>\n",
              "\n",
              "      <script>\n",
              "        const buttonEl =\n",
              "          document.querySelector('#df-39f3f0bc-6a83-4600-b1f9-dc654f7f6818 button.colab-df-convert');\n",
              "        buttonEl.style.display =\n",
              "          google.colab.kernel.accessAllowed ? 'block' : 'none';\n",
              "\n",
              "        async function convertToInteractive(key) {\n",
              "          const element = document.querySelector('#df-39f3f0bc-6a83-4600-b1f9-dc654f7f6818');\n",
              "          const dataTable =\n",
              "            await google.colab.kernel.invokeFunction('convertToInteractive',\n",
              "                                                     [key], {});\n",
              "          if (!dataTable) return;\n",
              "\n",
              "          const docLinkHtml = 'Like what you see? Visit the ' +\n",
              "            '<a target=\"_blank\" href=https://colab.research.google.com/notebooks/data_table.ipynb>data table notebook</a>'\n",
              "            + ' to learn more about interactive tables.';\n",
              "          element.innerHTML = '';\n",
              "          dataTable['output_type'] = 'display_data';\n",
              "          await google.colab.output.renderOutput(dataTable, element);\n",
              "          const docLink = document.createElement('div');\n",
              "          docLink.innerHTML = docLinkHtml;\n",
              "          element.appendChild(docLink);\n",
              "        }\n",
              "      </script>\n",
              "    </div>\n",
              "  </div>\n",
              "  "
            ]
          },
          "metadata": {},
          "execution_count": 173
        }
      ]
    },
    {
      "cell_type": "code",
      "source": [
        "# Numerical variables :\n",
        "num_cols = [c for c in df.columns if df[c].dtypes!='O']\n",
        "df[num_cols].head()"
      ],
      "metadata": {
        "colab": {
          "base_uri": "https://localhost:8080/",
          "height": 206
        },
        "id": "ysVQ38HTkE35",
        "outputId": "b07a7e10-0197-4f95-8b85-0e56bd771bdd"
      },
      "execution_count": 174,
      "outputs": [
        {
          "output_type": "execute_result",
          "data": {
            "text/plain": [
              "   ApplicantIncome  CoapplicantIncome  LoanAmount  Loan_Amount_Term  \\\n",
              "0             5849                0.0         NaN             360.0   \n",
              "1             4583             1508.0       128.0             360.0   \n",
              "2             3000                0.0        66.0             360.0   \n",
              "3             2583             2358.0       120.0             360.0   \n",
              "4             6000                0.0       141.0             360.0   \n",
              "\n",
              "   Credit_History  \n",
              "0             1.0  \n",
              "1             1.0  \n",
              "2             1.0  \n",
              "3             1.0  \n",
              "4             1.0  "
            ],
            "text/html": [
              "\n",
              "  <div id=\"df-7acc8228-fc64-4915-9918-935a9fd444a3\">\n",
              "    <div class=\"colab-df-container\">\n",
              "      <div>\n",
              "<style scoped>\n",
              "    .dataframe tbody tr th:only-of-type {\n",
              "        vertical-align: middle;\n",
              "    }\n",
              "\n",
              "    .dataframe tbody tr th {\n",
              "        vertical-align: top;\n",
              "    }\n",
              "\n",
              "    .dataframe thead th {\n",
              "        text-align: right;\n",
              "    }\n",
              "</style>\n",
              "<table border=\"1\" class=\"dataframe\">\n",
              "  <thead>\n",
              "    <tr style=\"text-align: right;\">\n",
              "      <th></th>\n",
              "      <th>ApplicantIncome</th>\n",
              "      <th>CoapplicantIncome</th>\n",
              "      <th>LoanAmount</th>\n",
              "      <th>Loan_Amount_Term</th>\n",
              "      <th>Credit_History</th>\n",
              "    </tr>\n",
              "  </thead>\n",
              "  <tbody>\n",
              "    <tr>\n",
              "      <th>0</th>\n",
              "      <td>5849</td>\n",
              "      <td>0.0</td>\n",
              "      <td>NaN</td>\n",
              "      <td>360.0</td>\n",
              "      <td>1.0</td>\n",
              "    </tr>\n",
              "    <tr>\n",
              "      <th>1</th>\n",
              "      <td>4583</td>\n",
              "      <td>1508.0</td>\n",
              "      <td>128.0</td>\n",
              "      <td>360.0</td>\n",
              "      <td>1.0</td>\n",
              "    </tr>\n",
              "    <tr>\n",
              "      <th>2</th>\n",
              "      <td>3000</td>\n",
              "      <td>0.0</td>\n",
              "      <td>66.0</td>\n",
              "      <td>360.0</td>\n",
              "      <td>1.0</td>\n",
              "    </tr>\n",
              "    <tr>\n",
              "      <th>3</th>\n",
              "      <td>2583</td>\n",
              "      <td>2358.0</td>\n",
              "      <td>120.0</td>\n",
              "      <td>360.0</td>\n",
              "      <td>1.0</td>\n",
              "    </tr>\n",
              "    <tr>\n",
              "      <th>4</th>\n",
              "      <td>6000</td>\n",
              "      <td>0.0</td>\n",
              "      <td>141.0</td>\n",
              "      <td>360.0</td>\n",
              "      <td>1.0</td>\n",
              "    </tr>\n",
              "  </tbody>\n",
              "</table>\n",
              "</div>\n",
              "      <button class=\"colab-df-convert\" onclick=\"convertToInteractive('df-7acc8228-fc64-4915-9918-935a9fd444a3')\"\n",
              "              title=\"Convert this dataframe to an interactive table.\"\n",
              "              style=\"display:none;\">\n",
              "        \n",
              "  <svg xmlns=\"http://www.w3.org/2000/svg\" height=\"24px\"viewBox=\"0 0 24 24\"\n",
              "       width=\"24px\">\n",
              "    <path d=\"M0 0h24v24H0V0z\" fill=\"none\"/>\n",
              "    <path d=\"M18.56 5.44l.94 2.06.94-2.06 2.06-.94-2.06-.94-.94-2.06-.94 2.06-2.06.94zm-11 1L8.5 8.5l.94-2.06 2.06-.94-2.06-.94L8.5 2.5l-.94 2.06-2.06.94zm10 10l.94 2.06.94-2.06 2.06-.94-2.06-.94-.94-2.06-.94 2.06-2.06.94z\"/><path d=\"M17.41 7.96l-1.37-1.37c-.4-.4-.92-.59-1.43-.59-.52 0-1.04.2-1.43.59L10.3 9.45l-7.72 7.72c-.78.78-.78 2.05 0 2.83L4 21.41c.39.39.9.59 1.41.59.51 0 1.02-.2 1.41-.59l7.78-7.78 2.81-2.81c.8-.78.8-2.07 0-2.86zM5.41 20L4 18.59l7.72-7.72 1.47 1.35L5.41 20z\"/>\n",
              "  </svg>\n",
              "      </button>\n",
              "      \n",
              "  <style>\n",
              "    .colab-df-container {\n",
              "      display:flex;\n",
              "      flex-wrap:wrap;\n",
              "      gap: 12px;\n",
              "    }\n",
              "\n",
              "    .colab-df-convert {\n",
              "      background-color: #E8F0FE;\n",
              "      border: none;\n",
              "      border-radius: 50%;\n",
              "      cursor: pointer;\n",
              "      display: none;\n",
              "      fill: #1967D2;\n",
              "      height: 32px;\n",
              "      padding: 0 0 0 0;\n",
              "      width: 32px;\n",
              "    }\n",
              "\n",
              "    .colab-df-convert:hover {\n",
              "      background-color: #E2EBFA;\n",
              "      box-shadow: 0px 1px 2px rgba(60, 64, 67, 0.3), 0px 1px 3px 1px rgba(60, 64, 67, 0.15);\n",
              "      fill: #174EA6;\n",
              "    }\n",
              "\n",
              "    [theme=dark] .colab-df-convert {\n",
              "      background-color: #3B4455;\n",
              "      fill: #D2E3FC;\n",
              "    }\n",
              "\n",
              "    [theme=dark] .colab-df-convert:hover {\n",
              "      background-color: #434B5C;\n",
              "      box-shadow: 0px 1px 3px 1px rgba(0, 0, 0, 0.15);\n",
              "      filter: drop-shadow(0px 1px 2px rgba(0, 0, 0, 0.3));\n",
              "      fill: #FFFFFF;\n",
              "    }\n",
              "  </style>\n",
              "\n",
              "      <script>\n",
              "        const buttonEl =\n",
              "          document.querySelector('#df-7acc8228-fc64-4915-9918-935a9fd444a3 button.colab-df-convert');\n",
              "        buttonEl.style.display =\n",
              "          google.colab.kernel.accessAllowed ? 'block' : 'none';\n",
              "\n",
              "        async function convertToInteractive(key) {\n",
              "          const element = document.querySelector('#df-7acc8228-fc64-4915-9918-935a9fd444a3');\n",
              "          const dataTable =\n",
              "            await google.colab.kernel.invokeFunction('convertToInteractive',\n",
              "                                                     [key], {});\n",
              "          if (!dataTable) return;\n",
              "\n",
              "          const docLinkHtml = 'Like what you see? Visit the ' +\n",
              "            '<a target=\"_blank\" href=https://colab.research.google.com/notebooks/data_table.ipynb>data table notebook</a>'\n",
              "            + ' to learn more about interactive tables.';\n",
              "          element.innerHTML = '';\n",
              "          dataTable['output_type'] = 'display_data';\n",
              "          await google.colab.output.renderOutput(dataTable, element);\n",
              "          const docLink = document.createElement('div');\n",
              "          docLink.innerHTML = docLinkHtml;\n",
              "          element.appendChild(docLink);\n",
              "        }\n",
              "      </script>\n",
              "    </div>\n",
              "  </div>\n",
              "  "
            ]
          },
          "metadata": {},
          "execution_count": 174
        }
      ]
    },
    {
      "cell_type": "code",
      "source": [
        "# creating a function which will give us features from the dataset\n",
        "def data_feature(dataset):\n",
        "    print(\"SHAPE OF THE DATA: \")\n",
        "    print(dataset.shape)\n",
        "    print(\"-\"*90)\n",
        "    print(\"INFORMATION OF THE DATA: \")\n",
        "    print(dataset.info())\n",
        "    print(\"-\"*90)\n",
        "    print(\"NUMBER OF NULL VALUES PRESENT IN THE DATA: \")\n",
        "    print(dataset.isnull().sum())\n",
        "    print(\"-\"*90)\n",
        "    print(\"DATA TYPES OF THE DATA: \")\n",
        "    print(dataset.dtypes)\n",
        "    print(\"-\"*90)\n",
        "    print(\"COLUMN NAMES OF THE DATA: \")\n",
        "    print(dataset.columns)\n",
        "    print(\"-\"*90)\n",
        "    \n",
        "data_feature(df)"
      ],
      "metadata": {
        "colab": {
          "base_uri": "https://localhost:8080/"
        },
        "id": "f-eUsDeIkQlb",
        "outputId": "884d8223-ff16-4fb4-9ccf-ed3716c6cdd4"
      },
      "execution_count": 175,
      "outputs": [
        {
          "output_type": "stream",
          "name": "stdout",
          "text": [
            "SHAPE OF THE DATA: \n",
            "(614, 12)\n",
            "------------------------------------------------------------------------------------------\n",
            "INFORMATION OF THE DATA: \n",
            "<class 'pandas.core.frame.DataFrame'>\n",
            "RangeIndex: 614 entries, 0 to 613\n",
            "Data columns (total 12 columns):\n",
            " #   Column             Non-Null Count  Dtype  \n",
            "---  ------             --------------  -----  \n",
            " 0   Gender             601 non-null    object \n",
            " 1   Married            611 non-null    object \n",
            " 2   Dependents         599 non-null    object \n",
            " 3   Education          614 non-null    object \n",
            " 4   Self_Employed      582 non-null    object \n",
            " 5   ApplicantIncome    614 non-null    int64  \n",
            " 6   CoapplicantIncome  614 non-null    float64\n",
            " 7   LoanAmount         592 non-null    float64\n",
            " 8   Loan_Amount_Term   600 non-null    float64\n",
            " 9   Credit_History     564 non-null    float64\n",
            " 10  Property_Area      614 non-null    object \n",
            " 11  Loan_Status        614 non-null    object \n",
            "dtypes: float64(4), int64(1), object(7)\n",
            "memory usage: 57.7+ KB\n",
            "None\n",
            "------------------------------------------------------------------------------------------\n",
            "NUMBER OF NULL VALUES PRESENT IN THE DATA: \n",
            "Gender               13\n",
            "Married               3\n",
            "Dependents           15\n",
            "Education             0\n",
            "Self_Employed        32\n",
            "ApplicantIncome       0\n",
            "CoapplicantIncome     0\n",
            "LoanAmount           22\n",
            "Loan_Amount_Term     14\n",
            "Credit_History       50\n",
            "Property_Area         0\n",
            "Loan_Status           0\n",
            "dtype: int64\n",
            "------------------------------------------------------------------------------------------\n",
            "DATA TYPES OF THE DATA: \n",
            "Gender                object\n",
            "Married               object\n",
            "Dependents            object\n",
            "Education             object\n",
            "Self_Employed         object\n",
            "ApplicantIncome        int64\n",
            "CoapplicantIncome    float64\n",
            "LoanAmount           float64\n",
            "Loan_Amount_Term     float64\n",
            "Credit_History       float64\n",
            "Property_Area         object\n",
            "Loan_Status           object\n",
            "dtype: object\n",
            "------------------------------------------------------------------------------------------\n",
            "COLUMN NAMES OF THE DATA: \n",
            "Index(['Gender', 'Married', 'Dependents', 'Education', 'Self_Employed',\n",
            "       'ApplicantIncome', 'CoapplicantIncome', 'LoanAmount',\n",
            "       'Loan_Amount_Term', 'Credit_History', 'Property_Area', 'Loan_Status'],\n",
            "      dtype='object')\n",
            "------------------------------------------------------------------------------------------\n"
          ]
        }
      ]
    },
    {
      "cell_type": "code",
      "source": [
        "df.describe().T"
      ],
      "metadata": {
        "colab": {
          "base_uri": "https://localhost:8080/",
          "height": 206
        },
        "id": "YZ-feGkvkQoQ",
        "outputId": "dd7e047f-9d22-49d6-d166-f3a69d3d53b4"
      },
      "execution_count": 176,
      "outputs": [
        {
          "output_type": "execute_result",
          "data": {
            "text/plain": [
              "                   count         mean          std    min     25%     50%  \\\n",
              "ApplicantIncome    614.0  5403.459283  6109.041673  150.0  2877.5  3812.5   \n",
              "CoapplicantIncome  614.0  1621.245798  2926.248369    0.0     0.0  1188.5   \n",
              "LoanAmount         592.0   146.412162    85.587325    9.0   100.0   128.0   \n",
              "Loan_Amount_Term   600.0   342.000000    65.120410   12.0   360.0   360.0   \n",
              "Credit_History     564.0     0.842199     0.364878    0.0     1.0     1.0   \n",
              "\n",
              "                       75%      max  \n",
              "ApplicantIncome    5795.00  81000.0  \n",
              "CoapplicantIncome  2297.25  41667.0  \n",
              "LoanAmount          168.00    700.0  \n",
              "Loan_Amount_Term    360.00    480.0  \n",
              "Credit_History        1.00      1.0  "
            ],
            "text/html": [
              "\n",
              "  <div id=\"df-c92161f1-eef4-4bf8-927d-dea6e8a4245a\">\n",
              "    <div class=\"colab-df-container\">\n",
              "      <div>\n",
              "<style scoped>\n",
              "    .dataframe tbody tr th:only-of-type {\n",
              "        vertical-align: middle;\n",
              "    }\n",
              "\n",
              "    .dataframe tbody tr th {\n",
              "        vertical-align: top;\n",
              "    }\n",
              "\n",
              "    .dataframe thead th {\n",
              "        text-align: right;\n",
              "    }\n",
              "</style>\n",
              "<table border=\"1\" class=\"dataframe\">\n",
              "  <thead>\n",
              "    <tr style=\"text-align: right;\">\n",
              "      <th></th>\n",
              "      <th>count</th>\n",
              "      <th>mean</th>\n",
              "      <th>std</th>\n",
              "      <th>min</th>\n",
              "      <th>25%</th>\n",
              "      <th>50%</th>\n",
              "      <th>75%</th>\n",
              "      <th>max</th>\n",
              "    </tr>\n",
              "  </thead>\n",
              "  <tbody>\n",
              "    <tr>\n",
              "      <th>ApplicantIncome</th>\n",
              "      <td>614.0</td>\n",
              "      <td>5403.459283</td>\n",
              "      <td>6109.041673</td>\n",
              "      <td>150.0</td>\n",
              "      <td>2877.5</td>\n",
              "      <td>3812.5</td>\n",
              "      <td>5795.00</td>\n",
              "      <td>81000.0</td>\n",
              "    </tr>\n",
              "    <tr>\n",
              "      <th>CoapplicantIncome</th>\n",
              "      <td>614.0</td>\n",
              "      <td>1621.245798</td>\n",
              "      <td>2926.248369</td>\n",
              "      <td>0.0</td>\n",
              "      <td>0.0</td>\n",
              "      <td>1188.5</td>\n",
              "      <td>2297.25</td>\n",
              "      <td>41667.0</td>\n",
              "    </tr>\n",
              "    <tr>\n",
              "      <th>LoanAmount</th>\n",
              "      <td>592.0</td>\n",
              "      <td>146.412162</td>\n",
              "      <td>85.587325</td>\n",
              "      <td>9.0</td>\n",
              "      <td>100.0</td>\n",
              "      <td>128.0</td>\n",
              "      <td>168.00</td>\n",
              "      <td>700.0</td>\n",
              "    </tr>\n",
              "    <tr>\n",
              "      <th>Loan_Amount_Term</th>\n",
              "      <td>600.0</td>\n",
              "      <td>342.000000</td>\n",
              "      <td>65.120410</td>\n",
              "      <td>12.0</td>\n",
              "      <td>360.0</td>\n",
              "      <td>360.0</td>\n",
              "      <td>360.00</td>\n",
              "      <td>480.0</td>\n",
              "    </tr>\n",
              "    <tr>\n",
              "      <th>Credit_History</th>\n",
              "      <td>564.0</td>\n",
              "      <td>0.842199</td>\n",
              "      <td>0.364878</td>\n",
              "      <td>0.0</td>\n",
              "      <td>1.0</td>\n",
              "      <td>1.0</td>\n",
              "      <td>1.00</td>\n",
              "      <td>1.0</td>\n",
              "    </tr>\n",
              "  </tbody>\n",
              "</table>\n",
              "</div>\n",
              "      <button class=\"colab-df-convert\" onclick=\"convertToInteractive('df-c92161f1-eef4-4bf8-927d-dea6e8a4245a')\"\n",
              "              title=\"Convert this dataframe to an interactive table.\"\n",
              "              style=\"display:none;\">\n",
              "        \n",
              "  <svg xmlns=\"http://www.w3.org/2000/svg\" height=\"24px\"viewBox=\"0 0 24 24\"\n",
              "       width=\"24px\">\n",
              "    <path d=\"M0 0h24v24H0V0z\" fill=\"none\"/>\n",
              "    <path d=\"M18.56 5.44l.94 2.06.94-2.06 2.06-.94-2.06-.94-.94-2.06-.94 2.06-2.06.94zm-11 1L8.5 8.5l.94-2.06 2.06-.94-2.06-.94L8.5 2.5l-.94 2.06-2.06.94zm10 10l.94 2.06.94-2.06 2.06-.94-2.06-.94-.94-2.06-.94 2.06-2.06.94z\"/><path d=\"M17.41 7.96l-1.37-1.37c-.4-.4-.92-.59-1.43-.59-.52 0-1.04.2-1.43.59L10.3 9.45l-7.72 7.72c-.78.78-.78 2.05 0 2.83L4 21.41c.39.39.9.59 1.41.59.51 0 1.02-.2 1.41-.59l7.78-7.78 2.81-2.81c.8-.78.8-2.07 0-2.86zM5.41 20L4 18.59l7.72-7.72 1.47 1.35L5.41 20z\"/>\n",
              "  </svg>\n",
              "      </button>\n",
              "      \n",
              "  <style>\n",
              "    .colab-df-container {\n",
              "      display:flex;\n",
              "      flex-wrap:wrap;\n",
              "      gap: 12px;\n",
              "    }\n",
              "\n",
              "    .colab-df-convert {\n",
              "      background-color: #E8F0FE;\n",
              "      border: none;\n",
              "      border-radius: 50%;\n",
              "      cursor: pointer;\n",
              "      display: none;\n",
              "      fill: #1967D2;\n",
              "      height: 32px;\n",
              "      padding: 0 0 0 0;\n",
              "      width: 32px;\n",
              "    }\n",
              "\n",
              "    .colab-df-convert:hover {\n",
              "      background-color: #E2EBFA;\n",
              "      box-shadow: 0px 1px 2px rgba(60, 64, 67, 0.3), 0px 1px 3px 1px rgba(60, 64, 67, 0.15);\n",
              "      fill: #174EA6;\n",
              "    }\n",
              "\n",
              "    [theme=dark] .colab-df-convert {\n",
              "      background-color: #3B4455;\n",
              "      fill: #D2E3FC;\n",
              "    }\n",
              "\n",
              "    [theme=dark] .colab-df-convert:hover {\n",
              "      background-color: #434B5C;\n",
              "      box-shadow: 0px 1px 3px 1px rgba(0, 0, 0, 0.15);\n",
              "      filter: drop-shadow(0px 1px 2px rgba(0, 0, 0, 0.3));\n",
              "      fill: #FFFFFF;\n",
              "    }\n",
              "  </style>\n",
              "\n",
              "      <script>\n",
              "        const buttonEl =\n",
              "          document.querySelector('#df-c92161f1-eef4-4bf8-927d-dea6e8a4245a button.colab-df-convert');\n",
              "        buttonEl.style.display =\n",
              "          google.colab.kernel.accessAllowed ? 'block' : 'none';\n",
              "\n",
              "        async function convertToInteractive(key) {\n",
              "          const element = document.querySelector('#df-c92161f1-eef4-4bf8-927d-dea6e8a4245a');\n",
              "          const dataTable =\n",
              "            await google.colab.kernel.invokeFunction('convertToInteractive',\n",
              "                                                     [key], {});\n",
              "          if (!dataTable) return;\n",
              "\n",
              "          const docLinkHtml = 'Like what you see? Visit the ' +\n",
              "            '<a target=\"_blank\" href=https://colab.research.google.com/notebooks/data_table.ipynb>data table notebook</a>'\n",
              "            + ' to learn more about interactive tables.';\n",
              "          element.innerHTML = '';\n",
              "          dataTable['output_type'] = 'display_data';\n",
              "          await google.colab.output.renderOutput(dataTable, element);\n",
              "          const docLink = document.createElement('div');\n",
              "          docLink.innerHTML = docLinkHtml;\n",
              "          element.appendChild(docLink);\n",
              "        }\n",
              "      </script>\n",
              "    </div>\n",
              "  </div>\n",
              "  "
            ]
          },
          "metadata": {},
          "execution_count": 176
        }
      ]
    },
    {
      "cell_type": "markdown",
      "source": [
        "**Step 1 ====> Data Exploration** :"
      ],
      "metadata": {
        "id": "JC3FljFg5T9z"
      }
    },
    {
      "cell_type": "markdown",
      "source": [
        "A] Categorical Variable :"
      ],
      "metadata": {
        "id": "9T-HHget5Y8O"
      }
    },
    {
      "cell_type": "markdown",
      "source": [
        "1] Gender :"
      ],
      "metadata": {
        "id": "n7oUuaXK-Jy0"
      }
    },
    {
      "cell_type": "code",
      "source": [
        "df.Gender.value_counts(dropna=False)"
      ],
      "metadata": {
        "colab": {
          "base_uri": "https://localhost:8080/"
        },
        "id": "k9T01cGskQ12",
        "outputId": "f19aeedc-5eea-4b35-d93a-dfad325a7f49"
      },
      "execution_count": 177,
      "outputs": [
        {
          "output_type": "execute_result",
          "data": {
            "text/plain": [
              "Male      489\n",
              "Female    112\n",
              "NaN        13\n",
              "Name: Gender, dtype: int64"
            ]
          },
          "metadata": {},
          "execution_count": 177
        }
      ]
    },
    {
      "cell_type": "code",
      "source": [
        "sns.countplot(x=\"Gender\", data=df, palette=\"hls\")\n",
        "plt.show()"
      ],
      "metadata": {
        "colab": {
          "base_uri": "https://localhost:8080/",
          "height": 285
        },
        "id": "2YjOdztl9VZe",
        "outputId": "0aab3a52-e9ad-4bf1-8ab5-de20a6f59c1b"
      },
      "execution_count": 178,
      "outputs": [
        {
          "output_type": "display_data",
          "data": {
            "text/plain": [
              "<Figure size 432x288 with 1 Axes>"
            ],
            "image/png": "[encoded data removed]"
          },
          "metadata": {
            "needs_background": "light"
          }
        }
      ]
    },
    {
      "cell_type": "code",
      "source": [
        "countMale = len(df[df.Gender == 'Male'])\n",
        "countFemale = len(df[df.Gender == 'Female'])\n",
        "countNull = len(df[df.Gender.isnull()])\n",
        "\n",
        "print(\"Percentage of Male applicant: {:.2f}%\".format((countMale / (len(df.Gender))*100)))\n",
        "print(\"Percentage of Female applicant: {:.2f}%\".format((countFemale / (len(df.Gender))*100)))\n",
        "print(\"Missing values percentage: {:.2f}%\".format((countNull / (len(df.Gender))*100)))"
      ],
      "metadata": {
        "colab": {
          "base_uri": "https://localhost:8080/"
        },
        "id": "61EH1QPV9VcO",
        "outputId": "0049118f-8602-4224-9ba5-9dd47c6c4471"
      },
      "execution_count": 179,
      "outputs": [
        {
          "output_type": "stream",
          "name": "stdout",
          "text": [
            "Percentage of Male applicant: 79.64%\n",
            "Percentage of Female applicant: 18.24%\n",
            "Missing values percentage: 2.12%\n"
          ]
        }
      ]
    },
    {
      "cell_type": "markdown",
      "source": [
        " From the results above, the number of male applicants is higher compared to female applicants. It also can be seen there are missing values in this column."
      ],
      "metadata": {
        "id": "hUCgB13k9-2p"
      }
    },
    {
      "cell_type": "markdown",
      "source": [
        "2] Married :"
      ],
      "metadata": {
        "id": "NE-9VAEx-fuJ"
      }
    },
    {
      "cell_type": "code",
      "source": [
        "df.Married.value_counts(dropna=False)"
      ],
      "metadata": {
        "colab": {
          "base_uri": "https://localhost:8080/"
        },
        "id": "MSrZ0gEe-h0U",
        "outputId": "fd4162c7-2fa6-437f-a180-6d80962c770f"
      },
      "execution_count": 180,
      "outputs": [
        {
          "output_type": "execute_result",
          "data": {
            "text/plain": [
              "Yes    398\n",
              "No     213\n",
              "NaN      3\n",
              "Name: Married, dtype: int64"
            ]
          },
          "metadata": {},
          "execution_count": 180
        }
      ]
    },
    {
      "cell_type": "code",
      "source": [
        "sns.countplot(x=\"Married\", data=df, palette=\"Paired\")\n",
        "plt.show()"
      ],
      "metadata": {
        "colab": {
          "base_uri": "https://localhost:8080/",
          "height": 285
        },
        "id": "fi7T8vAD9VrP",
        "outputId": "a9952930-1493-40df-cec2-b3fcd45fbd2b"
      },
      "execution_count": 181,
      "outputs": [
        {
          "output_type": "display_data",
          "data": {
            "text/plain": [
              "<Figure size 432x288 with 1 Axes>"
            ],
            "image/png": "[encoded data removed]"
          },
          "metadata": {
            "needs_background": "light"
          }
        }
      ]
    },
    {
      "cell_type": "markdown",
      "source": [
        "The number of applicants that has been married is higher compared to applicants that hasn't married. It also can be seen there are small number of missing values in this column."
      ],
      "metadata": {
        "id": "qqJuLnZH-_3k"
      }
    },
    {
      "cell_type": "code",
      "source": [
        "countMarried = len(df[df.Married == 'Yes'])\n",
        "countNotMarried = len(df[df.Married == 'No'])\n",
        "countNull = len(df[df.Married.isnull()])\n",
        "\n",
        "print(\"Percentage of married: {:.2f}%\".format((countMarried / (len(df.Married))*100)))\n",
        "print(\"Percentage of Not married applicant: {:.2f}%\".format((countNotMarried / (len(df.Married))*100)))\n",
        "print(\"Missing values percentage: {:.2f}%\".format((countNull / (len(df.Married))*100)))"
      ],
      "metadata": {
        "colab": {
          "base_uri": "https://localhost:8080/"
        },
        "id": "B7TEdOBg-u-P",
        "outputId": "1040670c-61b5-4ebe-cd80-b066347ea966"
      },
      "execution_count": 182,
      "outputs": [
        {
          "output_type": "stream",
          "name": "stdout",
          "text": [
            "Percentage of married: 64.82%\n",
            "Percentage of Not married applicant: 34.69%\n",
            "Missing values percentage: 0.49%\n"
          ]
        }
      ]
    },
    {
      "cell_type": "markdown",
      "source": [
        "3]  Education :"
      ],
      "metadata": {
        "id": "0hIzkCOH_V7b"
      }
    },
    {
      "cell_type": "code",
      "source": [
        "df.Education.value_counts(dropna=False)"
      ],
      "metadata": {
        "colab": {
          "base_uri": "https://localhost:8080/"
        },
        "id": "HElwrtf9_Bun",
        "outputId": "c0bb5710-3ec0-4f84-c298-aace0124754f"
      },
      "execution_count": 183,
      "outputs": [
        {
          "output_type": "execute_result",
          "data": {
            "text/plain": [
              "Graduate        480\n",
              "Not Graduate    134\n",
              "Name: Education, dtype: int64"
            ]
          },
          "metadata": {},
          "execution_count": 183
        }
      ]
    },
    {
      "cell_type": "code",
      "source": [
        "sns.countplot(x=\"Education\", data=df, palette=\"rocket\")\n",
        "plt.show()"
      ],
      "metadata": {
        "colab": {
          "base_uri": "https://localhost:8080/",
          "height": 287
        },
        "id": "rb9IHEOB_Xue",
        "outputId": "47f431f9-019d-4886-84f1-3f13ce4a62c0"
      },
      "execution_count": 184,
      "outputs": [
        {
          "output_type": "display_data",
          "data": {
            "text/plain": [
              "<Figure size 432x288 with 1 Axes>"
            ],
            "image/png": "[encoded data removed]"
          },
          "metadata": {
            "needs_background": "light"
          }
        }
      ]
    },
    {
      "cell_type": "code",
      "source": [
        "countGraduate = len(df[df.Education == 'Graduate'])\n",
        "countNotGraduate = len(df[df.Education == 'Not Graduate'])\n",
        "countNull = len(df[df.Education.isnull()])\n",
        "\n",
        "print(\"Percentage of graduate applicant: {:.2f}%\".format((countGraduate / (len(df.Education))*100)))\n",
        "print(\"Percentage of Not graduate applicant: {:.2f}%\".format((countNotGraduate / (len(df.Education))*100)))\n",
        "print(\"Missing values percentage: {:.2f}%\".format((countNull / (len(df.Education))*100)))"
      ],
      "metadata": {
        "colab": {
          "base_uri": "https://localhost:8080/"
        },
        "id": "MH8WQuCI_cqr",
        "outputId": "ed67e45b-7d39-4377-b820-ebe8e169f7d3"
      },
      "execution_count": 185,
      "outputs": [
        {
          "output_type": "stream",
          "name": "stdout",
          "text": [
            "Percentage of graduate applicant: 78.18%\n",
            "Percentage of Not graduate applicant: 21.82%\n",
            "Missing values percentage: 0.00%\n"
          ]
        }
      ]
    },
    {
      "cell_type": "markdown",
      "source": [
        "The number of applicants that has been graduated is higher compared to applicants that hasn't graduated."
      ],
      "metadata": {
        "id": "VP2fFLVH_hS8"
      }
    },
    {
      "cell_type": "markdown",
      "source": [
        "4] Self Employed "
      ],
      "metadata": {
        "id": "3vnc-5GxFCGK"
      }
    },
    {
      "cell_type": "code",
      "source": [
        "df.Self_Employed.value_counts(dropna=False)"
      ],
      "metadata": {
        "colab": {
          "base_uri": "https://localhost:8080/"
        },
        "id": "4un5nd-3_gV2",
        "outputId": "fde6aa00-22f3-4b7f-c83c-2eabe8f2b511"
      },
      "execution_count": 186,
      "outputs": [
        {
          "output_type": "execute_result",
          "data": {
            "text/plain": [
              "No     500\n",
              "Yes     82\n",
              "NaN     32\n",
              "Name: Self_Employed, dtype: int64"
            ]
          },
          "metadata": {},
          "execution_count": 186
        }
      ]
    },
    {
      "cell_type": "code",
      "source": [
        "sns.countplot(x=\"Self_Employed\", data=df, palette=\"crest\")\n",
        "plt.show()"
      ],
      "metadata": {
        "colab": {
          "base_uri": "https://localhost:8080/",
          "height": 285
        },
        "id": "20N9BLzEFKqv",
        "outputId": "d7913b75-a05f-4d81-c434-16b32de0f6f0"
      },
      "execution_count": 187,
      "outputs": [
        {
          "output_type": "display_data",
          "data": {
            "text/plain": [
              "<Figure size 432x288 with 1 Axes>"
            ],
            "image/png": "[encoded data removed]"
          },
          "metadata": {
            "needs_background": "light"
          }
        }
      ]
    },
    {
      "cell_type": "code",
      "source": [
        "countNo = len(df[df.Self_Employed == 'No'])\n",
        "countYes = len(df[df.Self_Employed == 'Yes'])\n",
        "countNull = len(df[df.Self_Employed.isnull()])\n",
        "\n",
        "print(\"Percentage of Not self employed: {:.2f}%\".format((countNo / (len(df.Self_Employed))*100)))\n",
        "print(\"Percentage of self employed: {:.2f}%\".format((countYes / (len(df.Self_Employed))*100)))\n",
        "print(\"Missing values percentage: {:.2f}%\".format((countNull / (len(df.Self_Employed))*100)))"
      ],
      "metadata": {
        "colab": {
          "base_uri": "https://localhost:8080/"
        },
        "id": "SlZf4TlvFOFD",
        "outputId": "1829487d-58c3-49b8-85e4-413177ca5e30"
      },
      "execution_count": 188,
      "outputs": [
        {
          "output_type": "stream",
          "name": "stdout",
          "text": [
            "Percentage of Not self employed: 81.43%\n",
            "Percentage of self employed: 13.36%\n",
            "Missing values percentage: 5.21%\n"
          ]
        }
      ]
    },
    {
      "cell_type": "markdown",
      "source": [
        "The number of applicants that are not self employed is higher compared to applicants that are self employed. It also can be seen, there are missing values in this column."
      ],
      "metadata": {
        "id": "h0MHEzLAFQZZ"
      }
    },
    {
      "cell_type": "markdown",
      "source": [
        "5] Credit History :"
      ],
      "metadata": {
        "id": "kc3W7FFUFdYB"
      }
    },
    {
      "cell_type": "code",
      "source": [
        "df.Credit_History.value_counts(dropna=False)"
      ],
      "metadata": {
        "colab": {
          "base_uri": "https://localhost:8080/"
        },
        "id": "YJXEOmHGFVg9",
        "outputId": "60efd9db-97b8-482e-f18f-5bce62e7e477"
      },
      "execution_count": 189,
      "outputs": [
        {
          "output_type": "execute_result",
          "data": {
            "text/plain": [
              "1.0    475\n",
              "0.0     89\n",
              "NaN     50\n",
              "Name: Credit_History, dtype: int64"
            ]
          },
          "metadata": {},
          "execution_count": 189
        }
      ]
    },
    {
      "cell_type": "code",
      "source": [
        "sns.countplot(x=\"Credit_History\", data=df, palette=\"viridis\")\n",
        "plt.show()"
      ],
      "metadata": {
        "colab": {
          "base_uri": "https://localhost:8080/",
          "height": 285
        },
        "id": "Uv-h9SeaFh4z",
        "outputId": "68abef5b-1a82-461f-defd-d058304530f0"
      },
      "execution_count": 190,
      "outputs": [
        {
          "output_type": "display_data",
          "data": {
            "text/plain": [
              "<Figure size 432x288 with 1 Axes>"
            ],
            "image/png": "[encoded data removed]"
          },
          "metadata": {
            "needs_background": "light"
          }
        }
      ]
    },
    {
      "cell_type": "code",
      "source": [
        "count1 = len(df[df.Credit_History == 1])\n",
        "count0 = len(df[df.Credit_History == 0])\n",
        "countNull = len(df[df.Credit_History.isnull()])\n",
        "\n",
        "print(\"Percentage of Good credit history: {:.2f}%\".format((count1 / (len(df.Credit_History))*100)))\n",
        "print(\"Percentage of Bad credit history: {:.2f}%\".format((count0 / (len(df.Credit_History))*100)))\n",
        "print(\"Missing values percentage: {:.2f}%\".format((countNull / (len(df.Credit_History))*100)))"
      ],
      "metadata": {
        "colab": {
          "base_uri": "https://localhost:8080/"
        },
        "id": "fsEM57ENFnD0",
        "outputId": "7b03ca75-3747-4e2c-b364-f0f6910e3bad"
      },
      "execution_count": 191,
      "outputs": [
        {
          "output_type": "stream",
          "name": "stdout",
          "text": [
            "Percentage of Good credit history: 77.36%\n",
            "Percentage of Bad credit history: 14.50%\n",
            "Missing values percentage: 8.14%\n"
          ]
        }
      ]
    },
    {
      "cell_type": "markdown",
      "source": [
        "The number of applicants that have good credit history is higher compared to applicants that have bad credit history. It also can be seen, there are missing values in this column."
      ],
      "metadata": {
        "id": "x3DHsoKKFveH"
      }
    },
    {
      "cell_type": "markdown",
      "source": [
        "6] Property Area :"
      ],
      "metadata": {
        "id": "IZgPXHfJF1Gm"
      }
    },
    {
      "cell_type": "code",
      "source": [
        "df.Property_Area.value_counts(dropna=False)"
      ],
      "metadata": {
        "colab": {
          "base_uri": "https://localhost:8080/"
        },
        "id": "5sLyJawDFuvz",
        "outputId": "e48135e3-6bcf-4a65-cee1-a26dad3ad25c"
      },
      "execution_count": 192,
      "outputs": [
        {
          "output_type": "execute_result",
          "data": {
            "text/plain": [
              "Semiurban    233\n",
              "Urban        202\n",
              "Rural        179\n",
              "Name: Property_Area, dtype: int64"
            ]
          },
          "metadata": {},
          "execution_count": 192
        }
      ]
    },
    {
      "cell_type": "code",
      "source": [
        "sns.countplot(x=\"Property_Area\", data=df, palette=\"cubehelix\")\n",
        "plt.show()"
      ],
      "metadata": {
        "colab": {
          "base_uri": "https://localhost:8080/",
          "height": 285
        },
        "id": "hSE02U1IFx8D",
        "outputId": "ae533e84-1816-4e9f-a8ec-24d276c4373a"
      },
      "execution_count": 193,
      "outputs": [
        {
          "output_type": "display_data",
          "data": {
            "text/plain": [
              "<Figure size 432x288 with 1 Axes>"
            ],
            "image/png": "[encoded data removed]"
          },
          "metadata": {
            "needs_background": "light"
          }
        }
      ]
    },
    {
      "cell_type": "code",
      "source": [
        "countUrban = len(df[df.Property_Area == 'Urban'])\n",
        "countRural = len(df[df.Property_Area == 'Rural'])\n",
        "countSemiurban = len(df[df.Property_Area == 'Semiurban'])\n",
        "countNull = len(df[df.Property_Area.isnull()])\n",
        "\n",
        "print(\"Percentage of Urban: {:.2f}%\".format((countUrban / (len(df.Property_Area))*100)))\n",
        "print(\"Percentage of Rural: {:.2f}%\".format((countRural / (len(df.Property_Area))*100)))\n",
        "print(\"Percentage of Semiurban: {:.2f}%\".format((countSemiurban / (len(df.Property_Area))*100)))\n",
        "print(\"Missing values percentage: {:.2f}%\".format((countNull / (len(df.Property_Area))*100)))"
      ],
      "metadata": {
        "colab": {
          "base_uri": "https://localhost:8080/"
        },
        "id": "nFGSlBYFFyEy",
        "outputId": "4358e93b-a1bb-4ef5-8dbc-56b941f77fd5"
      },
      "execution_count": 194,
      "outputs": [
        {
          "output_type": "stream",
          "name": "stdout",
          "text": [
            "Percentage of Urban: 32.90%\n",
            "Percentage of Rural: 29.15%\n",
            "Percentage of Semiurban: 37.95%\n",
            "Missing values percentage: 0.00%\n"
          ]
        }
      ]
    },
    {
      "cell_type": "markdown",
      "source": [
        "This column has a balanced distribution between Urban, Rural, and Semiurban property area. It also can be seen there is no missing value."
      ],
      "metadata": {
        "id": "e0F8c8nnFy31"
      }
    },
    {
      "cell_type": "markdown",
      "source": [
        "7] Loan Status :"
      ],
      "metadata": {
        "id": "tpDsrFsdGIan"
      }
    },
    {
      "cell_type": "code",
      "source": [
        "df.Loan_Status.value_counts(dropna=False)"
      ],
      "metadata": {
        "colab": {
          "base_uri": "https://localhost:8080/"
        },
        "id": "J1BDkWi-GLhF",
        "outputId": "2d0ffe64-a1f9-4e8c-975c-5ae2ac65abfe"
      },
      "execution_count": 195,
      "outputs": [
        {
          "output_type": "execute_result",
          "data": {
            "text/plain": [
              "Y    422\n",
              "N    192\n",
              "Name: Loan_Status, dtype: int64"
            ]
          },
          "metadata": {},
          "execution_count": 195
        }
      ]
    },
    {
      "cell_type": "code",
      "source": [
        "sns.countplot(x=\"Loan_Status\", data=df, palette=\"YlOrBr\")\n",
        "plt.show()"
      ],
      "metadata": {
        "colab": {
          "base_uri": "https://localhost:8080/",
          "height": 285
        },
        "id": "QcTDpno5GNmi",
        "outputId": "d0d46663-3d0d-475c-8207-4ef7bf3542a0"
      },
      "execution_count": 196,
      "outputs": [
        {
          "output_type": "display_data",
          "data": {
            "text/plain": [
              "<Figure size 432x288 with 1 Axes>"
            ],
            "image/png": "[encoded data removed]"
          },
          "metadata": {
            "needs_background": "light"
          }
        }
      ]
    },
    {
      "cell_type": "code",
      "source": [
        "countY = len(df[df.Loan_Status == 'Y'])\n",
        "countN = len(df[df.Loan_Status == 'N'])\n",
        "countNull = len(df[df.Loan_Status.isnull()])\n",
        "\n",
        "print(\"Percentage of Approved: {:.2f}%\".format((countY / (len(df.Loan_Status))*100)))\n",
        "print(\"Percentage of Rejected: {:.2f}%\".format((countN / (len(df.Loan_Status))*100)))\n",
        "print(\"Missing values percentage: {:.2f}%\".format((countNull / (len(df.Loan_Status))*100)))"
      ],
      "metadata": {
        "colab": {
          "base_uri": "https://localhost:8080/"
        },
        "id": "F_Y5tfV0GN1Y",
        "outputId": "798a8844-f7a9-482e-bb12-471e4fe211d4"
      },
      "execution_count": 197,
      "outputs": [
        {
          "output_type": "stream",
          "name": "stdout",
          "text": [
            "Percentage of Approved: 68.73%\n",
            "Percentage of Rejected: 31.27%\n",
            "Missing values percentage: 0.00%\n"
          ]
        }
      ]
    },
    {
      "cell_type": "markdown",
      "source": [
        "The number of approved loans is higher compared to rejected loans . It also can be seen, there is no missing values in this column.Also it is highly imbalanced which will be taken care of later."
      ],
      "metadata": {
        "id": "BteUdfEyGOFk"
      }
    },
    {
      "cell_type": "markdown",
      "source": [
        "8] Loan Amount Term :"
      ],
      "metadata": {
        "id": "yv3V819vGkom"
      }
    },
    {
      "cell_type": "code",
      "source": [
        "df.Loan_Amount_Term.value_counts(dropna=False)"
      ],
      "metadata": {
        "colab": {
          "base_uri": "https://localhost:8080/"
        },
        "id": "xo0ojR5gGXSN",
        "outputId": "e320449f-0ea4-49c6-ac5c-9d3ce934a7dd"
      },
      "execution_count": 198,
      "outputs": [
        {
          "output_type": "execute_result",
          "data": {
            "text/plain": [
              "360.0    512\n",
              "180.0     44\n",
              "480.0     15\n",
              "NaN       14\n",
              "300.0     13\n",
              "240.0      4\n",
              "84.0       4\n",
              "120.0      3\n",
              "60.0       2\n",
              "36.0       2\n",
              "12.0       1\n",
              "Name: Loan_Amount_Term, dtype: int64"
            ]
          },
          "metadata": {},
          "execution_count": 198
        }
      ]
    },
    {
      "cell_type": "code",
      "source": [
        "sns.countplot(x=\"Loan_Amount_Term\", data=df, palette=\"rocket\")\n",
        "plt.show()"
      ],
      "metadata": {
        "colab": {
          "base_uri": "https://localhost:8080/",
          "height": 285
        },
        "id": "FBIXBwvKGqBM",
        "outputId": "1b936e13-e199-43ba-8b78-2273584129f1"
      },
      "execution_count": 199,
      "outputs": [
        {
          "output_type": "display_data",
          "data": {
            "text/plain": [
              "<Figure size 432x288 with 1 Axes>"
            ],
            "image/png": "[encoded data removed]"
          },
          "metadata": {
            "needs_background": "light"
          }
        }
      ]
    },
    {
      "cell_type": "code",
      "source": [
        "count12 = len(df[df.Loan_Amount_Term == 12.0])\n",
        "count36 = len(df[df.Loan_Amount_Term == 36.0])\n",
        "count60 = len(df[df.Loan_Amount_Term == 60.0])\n",
        "count84 = len(df[df.Loan_Amount_Term == 84.0])\n",
        "count120 = len(df[df.Loan_Amount_Term == 120.0])\n",
        "count180 = len(df[df.Loan_Amount_Term == 180.0])\n",
        "count240 = len(df[df.Loan_Amount_Term == 240.0])\n",
        "count300 = len(df[df.Loan_Amount_Term == 300.0])\n",
        "count360 = len(df[df.Loan_Amount_Term == 360.0])\n",
        "count480 = len(df[df.Loan_Amount_Term == 480.0])\n",
        "countNull = len(df[df.Loan_Amount_Term.isnull()])\n",
        "\n",
        "print(\"Percentage of 12: {:.2f}%\".format((count12 / (len(df.Loan_Amount_Term))*100)))\n",
        "print(\"Percentage of 36: {:.2f}%\".format((count36 / (len(df.Loan_Amount_Term))*100)))\n",
        "print(\"Percentage of 60: {:.2f}%\".format((count60 / (len(df.Loan_Amount_Term))*100)))\n",
        "print(\"Percentage of 84: {:.2f}%\".format((count84 / (len(df.Loan_Amount_Term))*100)))\n",
        "print(\"Percentage of 120: {:.2f}%\".format((count120 / (len(df.Loan_Amount_Term))*100)))\n",
        "print(\"Percentage of 180: {:.2f}%\".format((count180 / (len(df.Loan_Amount_Term))*100)))\n",
        "print(\"Percentage of 240: {:.2f}%\".format((count240 / (len(df.Loan_Amount_Term))*100)))\n",
        "print(\"Percentage of 300: {:.2f}%\".format((count300 / (len(df.Loan_Amount_Term))*100)))\n",
        "print(\"Percentage of 360: {:.2f}%\".format((count360 / (len(df.Loan_Amount_Term))*100)))\n",
        "print(\"Percentage of 480: {:.2f}%\".format((count480 / (len(df.Loan_Amount_Term))*100)))\n",
        "print(\"Missing values percentage: {:.2f}%\".format((countNull / (len(df.Loan_Amount_Term))*100)))"
      ],
      "metadata": {
        "colab": {
          "base_uri": "https://localhost:8080/"
        },
        "id": "hz-YLsEQGqHO",
        "outputId": "37ac8b4b-318a-47d8-9bb6-3f76fa7cdfca"
      },
      "execution_count": 200,
      "outputs": [
        {
          "output_type": "stream",
          "name": "stdout",
          "text": [
            "Percentage of 12: 0.16%\n",
            "Percentage of 36: 0.33%\n",
            "Percentage of 60: 0.33%\n",
            "Percentage of 84: 0.65%\n",
            "Percentage of 120: 0.49%\n",
            "Percentage of 180: 7.17%\n",
            "Percentage of 240: 0.65%\n",
            "Percentage of 300: 2.12%\n",
            "Percentage of 360: 83.39%\n",
            "Percentage of 480: 2.44%\n",
            "Missing values percentage: 2.28%\n"
          ]
        }
      ]
    },
    {
      "cell_type": "markdown",
      "source": [
        "As can be seen from the results, the 360 days loan duration is the most popular compared to others."
      ],
      "metadata": {
        "id": "q2bDPIBfGqhI"
      }
    },
    {
      "cell_type": "markdown",
      "source": [
        "B] Numerical Variable  :"
      ],
      "metadata": {
        "id": "4JWG0Hd8HB6p"
      }
    },
    {
      "cell_type": "markdown",
      "source": [
        "1] Histogram Distribution :"
      ],
      "metadata": {
        "id": "qfS-9sblHEu7"
      }
    },
    {
      "cell_type": "code",
      "source": [
        "sns.set(style=\"darkgrid\")\n",
        "fig, axs = plt.subplots(2,2 , figsize=(12, 8))\n",
        "\n",
        "sns.histplot(data=df, x=\"ApplicantIncome\", kde=True, ax=axs[0, 0], color='green')\n",
        "sns.histplot(data=df, x=\"CoapplicantIncome\", kde=True, ax=axs[0, 1], color='skyblue')\n",
        "sns.histplot(data=df, x=\"LoanAmount\", kde=True, ax=axs[1, 0], color='orange')\n",
        "sns.histplot(data=df, x=\"Loan_Amount_Term\", kde=True, ax=axs[1, 1], color='red');"
      ],
      "metadata": {
        "colab": {
          "base_uri": "https://localhost:8080/",
          "height": 505
        },
        "id": "wio8C47tHnoR",
        "outputId": "fb14f58c-425e-456a-c261-837bd6b49045"
      },
      "execution_count": 201,
      "outputs": [
        {
          "output_type": "display_data",
          "data": {
            "text/plain": [
              "<Figure size 864x576 with 4 Axes>"
            ],
            "image/png": "[encoded data removed]"
          },
          "metadata": {}
        }
      ]
    },
    {
      "cell_type": "markdown",
      "source": [
        "2] Violin Plot  :"
      ],
      "metadata": {
        "id": "txJ_op1pIxYh"
      }
    },
    {
      "cell_type": "code",
      "source": [
        "sns.set(style=\"darkgrid\")\n",
        "fig, axs1 = plt.subplots(2, 2, figsize=(10, 10))\n",
        "\n",
        "sns.violinplot(data=df, y=\"ApplicantIncome\", ax=axs1[0, 0], color='green')\n",
        "sns.violinplot(data=df, y=\"CoapplicantIncome\", ax=axs1[0, 1], color='skyblue')\n",
        "sns.violinplot(data=df, y=\"LoanAmount\", ax=axs1[1, 0], color='orange')\n",
        "sns.violinplot(data=df, y=\"Loan_Amount_Term\",ax=axs1[1, 1], color='orange');"
      ],
      "metadata": {
        "colab": {
          "base_uri": "https://localhost:8080/",
          "height": 574
        },
        "id": "AycHJ0jUINcy",
        "outputId": "bf0b8e47-aadc-4679-9c3e-8c3ee07d4cbd"
      },
      "execution_count": 202,
      "outputs": [
        {
          "output_type": "display_data",
          "data": {
            "text/plain": [
              "<Figure size 720x720 with 4 Axes>"
            ],
            "image/png": "[encoded data removed]"
          },
          "metadata": {}
        }
      ]
    },
    {
      "cell_type": "markdown",
      "source": [
        "----> The distribution of Applicant income, Co Applicant Income, and Loan Amount are positively skewed and it has outliers (can be seen from both histogram and violin plot).\n",
        "\n",
        "----> The distribution of Loan Amount Term is negativly skewed and it has outliers."
      ],
      "metadata": {
        "id": "rx6q0DawKBl9"
      }
    },
    {
      "cell_type": "markdown",
      "source": [
        "\n",
        "C] Other Exploration :"
      ],
      "metadata": {
        "id": "BV5n4OlLKe09"
      }
    },
    {
      "cell_type": "markdown",
      "source": [
        "Here we will do  additional exploration from each variables. The additional exploration are:\n",
        "\n",
        "Bivariate analysis (categorical w/ categorical, categroical w/ numerical, and numerical w/ numerical),\n",
        "Heatmap"
      ],
      "metadata": {
        "id": "hAOKOdIzMJHX"
      }
    },
    {
      "cell_type": "markdown",
      "source": [
        "1] Heatmap  :"
      ],
      "metadata": {
        "id": "AgzUB-yJMXj8"
      }
    },
    {
      "cell_type": "code",
      "source": [
        "plt.figure(figsize=(10,7))\n",
        "sns.heatmap(df.corr(), annot=True, cmap='inferno');"
      ],
      "metadata": {
        "colab": {
          "base_uri": "https://localhost:8080/",
          "height": 532
        },
        "id": "Xb-Rq52oJrju",
        "outputId": "05e6c9b5-852a-4b2e-9263-ef6841c38e92"
      },
      "execution_count": 203,
      "outputs": [
        {
          "output_type": "display_data",
          "data": {
            "text/plain": [
              "<Figure size 720x504 with 2 Axes>"
            ],
            "image/png": "[encoded data removed]"
          },
          "metadata": {}
        }
      ]
    },
    {
      "cell_type": "markdown",
      "source": [
        "There is positive correlation between Loan Amount and Applicant Income"
      ],
      "metadata": {
        "id": "aJDU45-nMr4u"
      }
    },
    {
      "cell_type": "markdown",
      "source": [
        "2] Categorical - Categorical :"
      ],
      "metadata": {
        "id": "lUrhLcXfMthL"
      }
    },
    {
      "cell_type": "code",
      "source": [
        "pd.crosstab(df.Gender,df.Married).plot(kind=\"bar\", stacked=True, figsize=(5,5), color=['#f64f59','#12c2e9'])\n",
        "plt.title('Gender vs Married')\n",
        "plt.xlabel('Gender')\n",
        "plt.ylabel('Frequency')\n",
        "plt.xticks(rotation=0)\n",
        "plt.show()"
      ],
      "metadata": {
        "colab": {
          "base_uri": "https://localhost:8080/",
          "height": 355
        },
        "id": "40VepcPoKGbH",
        "outputId": "5669aba0-3a64-4ed1-8e94-be7905250dec"
      },
      "execution_count": 204,
      "outputs": [
        {
          "output_type": "display_data",
          "data": {
            "text/plain": [
              "<Figure size 360x360 with 1 Axes>"
            ],
            "image/png": "[encoded data removed]"
          },
          "metadata": {}
        }
      ]
    },
    {
      "cell_type": "markdown",
      "source": [
        "Most male applicants are already married compared to female applicants. Also, the number of not married male applicants are higher compare to female applicants that had not married."
      ],
      "metadata": {
        "id": "LYyHO9i7NMpG"
      }
    },
    {
      "cell_type": "code",
      "source": [
        "pd.crosstab(df.Self_Employed,df.Credit_History).plot(kind=\"bar\", stacked=True, figsize=(5,5), color=['#544a7d','#ffd452'])\n",
        "plt.title('Self Employed vs Credit History')\n",
        "plt.xlabel('Self Employed')\n",
        "plt.ylabel('Frequency')\n",
        "plt.legend([\"Bad Credit\", \"Good Credit\"])\n",
        "plt.xticks(rotation=0)\n",
        "plt.show()"
      ],
      "metadata": {
        "colab": {
          "base_uri": "https://localhost:8080/",
          "height": 355
        },
        "id": "WRrSr_uQMsYQ",
        "outputId": "ab39defb-99ea-4b2d-ac96-7fb08269885f"
      },
      "execution_count": 205,
      "outputs": [
        {
          "output_type": "display_data",
          "data": {
            "text/plain": [
              "<Figure size 360x360 with 1 Axes>"
            ],
            "image/png": "[encoded data removed]"
          },
          "metadata": {}
        }
      ]
    },
    {
      "cell_type": "markdown",
      "source": [
        "Most not self employed applicants have good credit compared to self employed applicants."
      ],
      "metadata": {
        "id": "ty6GtH_RNOBv"
      }
    },
    {
      "cell_type": "code",
      "source": [
        "pd.crosstab(df.Property_Area,df.Loan_Status).plot(kind=\"bar\", stacked=True, figsize=(5,5), color=['#333333','#dd1818'])\n",
        "plt.title('Property Area vs Loan Status')\n",
        "plt.xlabel('Property Area')\n",
        "plt.ylabel('Frequency')\n",
        "plt.xticks(rotation=0)\n",
        "plt.show()"
      ],
      "metadata": {
        "colab": {
          "base_uri": "https://localhost:8080/",
          "height": 355
        },
        "id": "1Pl2919xNNH9",
        "outputId": "bc772322-8e51-4ebb-ec2f-5b58239c64ad"
      },
      "execution_count": 206,
      "outputs": [
        {
          "output_type": "display_data",
          "data": {
            "text/plain": [
              "<Figure size 360x360 with 1 Axes>"
            ],
            "image/png": "[encoded data removed]"
          },
          "metadata": {}
        }
      ]
    },
    {
      "cell_type": "markdown",
      "source": [
        "Most of loan that got accepted has property in Semiurban compared to Urban and Rural."
      ],
      "metadata": {
        "id": "mCecPqVKOIrP"
      }
    },
    {
      "cell_type": "markdown",
      "source": [
        "3]  Categorical - Numerical  :"
      ],
      "metadata": {
        "id": "FNWJeZ-jOlgC"
      }
    },
    {
      "cell_type": "code",
      "source": [
        "sns.boxplot(x=\"Loan_Status\", y=\"ApplicantIncome\", data=df, palette=\"mako\");"
      ],
      "metadata": {
        "colab": {
          "base_uri": "https://localhost:8080/",
          "height": 285
        },
        "id": "fVxIUAdHNxbL",
        "outputId": "b7138a89-6d4f-48c9-b37c-41f0f2dff99e"
      },
      "execution_count": 207,
      "outputs": [
        {
          "output_type": "display_data",
          "data": {
            "text/plain": [
              "<Figure size 432x288 with 1 Axes>"
            ],
            "image/png": "[encoded data removed]"
          },
          "metadata": {}
        }
      ]
    },
    {
      "cell_type": "markdown",
      "source": [
        "It can be seen that there are lots of outliers in Applicant Income, and the distribution also positively skewed"
      ],
      "metadata": {
        "id": "LIouEG1-O2HT"
      }
    },
    {
      "cell_type": "code",
      "source": [
        "sns.boxplot(x=\"CoapplicantIncome\", y=\"Loan_Status\", data=df, palette=\"rocket\");"
      ],
      "metadata": {
        "colab": {
          "base_uri": "https://localhost:8080/",
          "height": 285
        },
        "id": "Bwww-UssOJMY",
        "outputId": "6f98461c-af9b-4361-cc1e-3d8efcde99b5"
      },
      "execution_count": 208,
      "outputs": [
        {
          "output_type": "display_data",
          "data": {
            "text/plain": [
              "<Figure size 432x288 with 1 Axes>"
            ],
            "image/png": "[encoded data removed]"
          },
          "metadata": {}
        }
      ]
    },
    {
      "cell_type": "markdown",
      "source": [
        "It's clear that Co Applicant Income has a number of outliers, and the distribution is also positively skewed."
      ],
      "metadata": {
        "id": "z8jjN6foO2RC"
      }
    },
    {
      "cell_type": "code",
      "source": [
        "sns.boxplot(x=\"Loan_Status\", y=\"LoanAmount\", data=df, palette=\"YlOrBr\");"
      ],
      "metadata": {
        "colab": {
          "base_uri": "https://localhost:8080/",
          "height": 285
        },
        "id": "6sKn4uv_OyFc",
        "outputId": "8e3a7bb7-b023-442e-f7cf-2cadec68dd71"
      },
      "execution_count": 209,
      "outputs": [
        {
          "output_type": "display_data",
          "data": {
            "text/plain": [
              "<Figure size 432x288 with 1 Axes>"
            ],
            "image/png": "[encoded data removed]"
          },
          "metadata": {}
        }
      ]
    },
    {
      "cell_type": "markdown",
      "source": [
        "As can be seen, Co Applicant Income has a high number of outliers, and the distribution is also positively skewed."
      ],
      "metadata": {
        "id": "het6VzUoO2ac"
      }
    },
    {
      "cell_type": "markdown",
      "source": [
        "4] Numerical - Numerical :"
      ],
      "metadata": {
        "id": "mURwZ8XdO_7s"
      }
    },
    {
      "cell_type": "code",
      "source": [
        "df.plot(x='ApplicantIncome', y='CoapplicantIncome', style='o')  \n",
        "plt.title('Applicant Income - Co Applicant Income')  \n",
        "plt.xlabel('ApplicantIncome')\n",
        "plt.ylabel('CoapplicantIncome')  \n",
        "plt.show()\n",
        "print('Pearson correlation:', df['ApplicantIncome'].corr(df['CoapplicantIncome']))\n",
        "print('T Test and P value: \\n', stats.ttest_ind(df['ApplicantIncome'], df['CoapplicantIncome']))"
      ],
      "metadata": {
        "colab": {
          "base_uri": "https://localhost:8080/",
          "height": 353
        },
        "id": "x-ci13LtO0pd",
        "outputId": "d6e607ec-58d0-46a2-9dca-b97338d2dadd"
      },
      "execution_count": 210,
      "outputs": [
        {
          "output_type": "display_data",
          "data": {
            "text/plain": [
              "<Figure size 432x288 with 1 Axes>"
            ],
            "image/png": "[encoded data removed]"
          },
          "metadata": {}
        },
        {
          "output_type": "stream",
          "name": "stdout",
          "text": [
            "Pearson correlation: -0.11660458122889966\n",
            "T Test and P value: \n",
            " Ttest_indResult(statistic=13.835753259915661, pvalue=1.4609839484240346e-40)\n"
          ]
        }
      ]
    },
    {
      "cell_type": "markdown",
      "source": [
        "There is negative correlation between Applicant income and Co Applicant Income.\n",
        "The correlation coefficient is significant at the 95 per cent confidence interval, as it has a p-value of 1.46"
      ],
      "metadata": {
        "id": "Wk-pgMPeP63k"
      }
    },
    {
      "cell_type": "markdown",
      "source": [
        "D] Null Values plot :"
      ],
      "metadata": {
        "id": "4kdBM_KfQPQ9"
      }
    },
    {
      "cell_type": "code",
      "source": [
        "df.isnull().sum()"
      ],
      "metadata": {
        "colab": {
          "base_uri": "https://localhost:8080/"
        },
        "id": "UTJ2tckPP2_N",
        "outputId": "0acff255-15ec-4120-8af1-6ada7c686d5f"
      },
      "execution_count": 211,
      "outputs": [
        {
          "output_type": "execute_result",
          "data": {
            "text/plain": [
              "Gender               13\n",
              "Married               3\n",
              "Dependents           15\n",
              "Education             0\n",
              "Self_Employed        32\n",
              "ApplicantIncome       0\n",
              "CoapplicantIncome     0\n",
              "LoanAmount           22\n",
              "Loan_Amount_Term     14\n",
              "Credit_History       50\n",
              "Property_Area         0\n",
              "Loan_Status           0\n",
              "dtype: int64"
            ]
          },
          "metadata": {},
          "execution_count": 211
        }
      ]
    },
    {
      "cell_type": "code",
      "source": [
        "plt.figure(figsize = (24, 5))\n",
        "axz = plt.subplot(1,2,2)\n",
        "mso.bar(df, ax = axz, fontsize = 12);"
      ],
      "metadata": {
        "colab": {
          "base_uri": "https://localhost:8080/",
          "height": 439
        },
        "id": "__5V833LQSm5",
        "outputId": "e882ba27-5fd4-4484-c63a-e2d265229ab7"
      },
      "execution_count": 212,
      "outputs": [
        {
          "output_type": "display_data",
          "data": {
            "text/plain": [
              "<Figure size 1728x360 with 3 Axes>"
            ],
            "image/png": "[encoded data removed]"
          },
          "metadata": {}
        }
      ]
    },
    {
      "cell_type": "markdown",
      "source": [
        "Previously, the null values were explored for Categorical Variables. Here the null values are explored for all variables in the dataset."
      ],
      "metadata": {
        "id": "p2zrZP7RQVgJ"
      }
    },
    {
      "cell_type": "markdown",
      "source": [
        "Step 2]  ======> Data Preprocessing :"
      ],
      "metadata": {
        "id": "ohbti87MQeyX"
      }
    },
    {
      "cell_type": "markdown",
      "source": [
        "A] Data Imputation for Categorical Variables :"
      ],
      "metadata": {
        "id": "BEZLTV1pRDMD"
      }
    },
    {
      "cell_type": "code",
      "source": [
        "df['Gender'].fillna(df['Gender'].mode()[0],inplace=True)\n",
        "df['Married'].fillna(df['Married'].mode()[0],inplace=True)\n",
        "df['Dependents'].fillna(df['Dependents'].mode()[0],inplace=True)\n",
        "df['Self_Employed'].fillna(df['Self_Employed'].mode()[0],inplace=True)\n",
        "df['Credit_History'].fillna(df['Credit_History'].mode()[0],inplace=True)\n",
        "df['Loan_Amount_Term'].fillna(df['Loan_Amount_Term'].mode()[0],inplace=True)"
      ],
      "metadata": {
        "id": "nGCG_NwhQeS7"
      },
      "execution_count": 213,
      "outputs": []
    },
    {
      "cell_type": "markdown",
      "source": [
        "B] Data Imputation for Numerical  Variables :"
      ],
      "metadata": {
        "id": "EKOFwTYXRTJ-"
      }
    },
    {
      "cell_type": "code",
      "source": [
        "df['LoanAmount'].fillna(df['LoanAmount'].mean(),inplace=True)"
      ],
      "metadata": {
        "id": "YjJVAVEtRH5o"
      },
      "execution_count": 214,
      "outputs": []
    },
    {
      "cell_type": "markdown",
      "source": [
        "C] One-hot Encoding :"
      ],
      "metadata": {
        "id": "hd9f77wlRzEm"
      }
    },
    {
      "cell_type": "code",
      "source": [
        "df = pd.get_dummies(df)\n",
        "\n",
        "# Drop columns\n",
        "df = df.drop(['Gender_Female', 'Married_No', 'Education_Not Graduate', \n",
        "              'Self_Employed_No', 'Loan_Status_N'], axis = 1)\n",
        "\n",
        "# Rename columns name\n",
        "new = {'Gender_Male': 'Gender', 'Married_Yes': 'Married', \n",
        "       'Education_Graduate': 'Education', 'Self_Employed_Yes': 'Self_Employed',\n",
        "       'Loan_Status_Y': 'Loan_Status'}\n",
        "       \n",
        "df.rename(columns=new, inplace=True)"
      ],
      "metadata": {
        "id": "p-n92_lJRXMb"
      },
      "execution_count": 215,
      "outputs": []
    },
    {
      "cell_type": "markdown",
      "source": [
        "D] Remove Outliers & Infinite values :"
      ],
      "metadata": {
        "id": "JzI6uoMdSGtP"
      }
    },
    {
      "cell_type": "code",
      "source": [
        "#  Since there are outliers, the outliers will be removed.\n",
        "Q1 = df.quantile(0.25)\n",
        "Q3 = df.quantile(0.75)\n",
        "IQR = Q3 - Q1\n",
        "\n",
        "df = df[~((df < (Q1 - 1.5 * IQR)) |(df > (Q3 + 1.5 * IQR))).any(axis=1)]"
      ],
      "metadata": {
        "id": "S-d2jPJcR0ZM"
      },
      "execution_count": 216,
      "outputs": []
    },
    {
      "cell_type": "markdown",
      "source": [
        "E] Skewed Distribution Treatment :"
      ],
      "metadata": {
        "id": "MuiZGdfZTY9C"
      }
    },
    {
      "cell_type": "code",
      "source": [
        "# Square Root Transformation\n",
        "\n",
        "df.ApplicantIncome = np.sqrt(df.ApplicantIncome)\n",
        "df.CoapplicantIncome = np.sqrt(df.CoapplicantIncome)\n",
        "df.LoanAmount = np.sqrt(df.LoanAmount)\n",
        "\n",
        "sns.set(style=\"darkgrid\")\n",
        "fig, axs = plt.subplots(2, 2, figsize=(10, 8))\n",
        "\n",
        "sns.histplot(data=df, x=\"ApplicantIncome\", kde=True, ax=axs[0, 0], color='green')\n",
        "sns.histplot(data=df, x=\"CoapplicantIncome\", kde=True, ax=axs[0, 1], color='skyblue')\n",
        "sns.histplot(data=df, x=\"LoanAmount\", kde=True, ax=axs[1, 0], color='orange');"
      ],
      "metadata": {
        "colab": {
          "base_uri": "https://localhost:8080/",
          "height": 502
        },
        "id": "nuEMSzVfSH7_",
        "outputId": "19713ffd-f028-43b1-82b6-af0660c5023c"
      },
      "execution_count": 217,
      "outputs": [
        {
          "output_type": "display_data",
          "data": {
            "text/plain": [
              "<Figure size 720x576 with 4 Axes>"
            ],
            "image/png": "[encoded data removed]"
          },
          "metadata": {}
        }
      ]
    },
    {
      "cell_type": "markdown",
      "source": [
        "As can be seen, the distribution after using square root transformation are much better compared to original distribution."
      ],
      "metadata": {
        "id": "CVcRzmp1Tm5o"
      }
    },
    {
      "cell_type": "markdown",
      "source": [
        "F] Features Splitting :"
      ],
      "metadata": {
        "id": "t_gdx42zTvd4"
      }
    },
    {
      "cell_type": "code",
      "source": [
        "X = df.drop([\"Loan_Status\"], axis=1)\n",
        "y = df[\"Loan_Status\"]"
      ],
      "metadata": {
        "id": "pUCI5yMGTaKx"
      },
      "execution_count": 218,
      "outputs": []
    },
    {
      "cell_type": "markdown",
      "source": [
        "G] SMOTE Technique  :\n",
        "\n",
        "We saw that the number between approved and rejected loan is imbalanced. Here we will use SMOTE technique to avoid overfitting,"
      ],
      "metadata": {
        "id": "3OyF48NdT6Jr"
      }
    },
    {
      "cell_type": "code",
      "source": [
        "X, y = SMOTE().fit_resample(X, y)"
      ],
      "metadata": {
        "id": "LzI_fMCRTpEg"
      },
      "execution_count": 219,
      "outputs": []
    },
    {
      "cell_type": "code",
      "source": [
        "sns.set_theme(style=\"darkgrid\")\n",
        "sns.countplot(y=y, data=df, palette=\"coolwarm\")\n",
        "plt.ylabel('Loan Status')\n",
        "plt.xlabel('Total')\n",
        "plt.show()"
      ],
      "metadata": {
        "colab": {
          "base_uri": "https://localhost:8080/",
          "height": 285
        },
        "id": "2ubCBhQbUw6M",
        "outputId": "046a8374-87c2-40da-e5af-579afb7296b0"
      },
      "execution_count": 220,
      "outputs": [
        {
          "output_type": "display_data",
          "data": {
            "text/plain": [
              "<Figure size 432x288 with 1 Axes>"
            ],
            "image/png": "[encoded data removed]"
          },
          "metadata": {}
        }
      ]
    },
    {
      "cell_type": "markdown",
      "source": [
        "As can be seen, the distrubtion of Loan status are now balanced."
      ],
      "metadata": {
        "id": "Uc05UpOlU_gY"
      }
    },
    {
      "cell_type": "markdown",
      "source": [
        "H] Data Normalization :\n",
        "\n",
        "Here data normalization will be performed to normalize the range of independent variables or features of data."
      ],
      "metadata": {
        "id": "K8_zgntyVD2s"
      }
    },
    {
      "cell_type": "code",
      "source": [
        "X = MinMaxScaler().fit_transform(X)"
      ],
      "metadata": {
        "id": "o0YJ3eENVoEl"
      },
      "execution_count": 221,
      "outputs": []
    },
    {
      "cell_type": "markdown",
      "source": [
        "I] Splitting Data Set :\n",
        "\n",
        "The data set will be split into 80% train and 20% test."
      ],
      "metadata": {
        "id": "BWBPg1NyVTAz"
      }
    },
    {
      "cell_type": "code",
      "source": [
        "X_train, X_test, y_train, y_test = train_test_split(X, y, test_size = 0.2, random_state = 0)"
      ],
      "metadata": {
        "id": "1MWT3N6xU_8P"
      },
      "execution_count": 222,
      "outputs": []
    },
    {
      "cell_type": "markdown",
      "source": [
        "Step 3 ====> Models :"
      ],
      "metadata": {
        "id": "Ew9XDbDhYDGt"
      }
    },
    {
      "cell_type": "markdown",
      "source": [
        "1] Logistic Regression"
      ],
      "metadata": {
        "id": "c_-E1VZkYLGw"
      }
    },
    {
      "cell_type": "code",
      "source": [
        "LRclassifier = LogisticRegression(solver='saga', max_iter=500, random_state=1)\n",
        "LRclassifier.fit(X_train, y_train)\n",
        "\n",
        "y_pred = LRclassifier.predict(X_test)\n",
        "\n",
        "print(classification_report(y_test, y_pred))\n",
        "print(confusion_matrix(y_test, y_pred))\n",
        "\n",
        "from sklearn.metrics import accuracy_score\n",
        "LRAcc = accuracy_score(y_pred,y_test)\n",
        "print('LR accuracy: {:.2f}%'.format(LRAcc*100))"
      ],
      "metadata": {
        "colab": {
          "base_uri": "https://localhost:8080/"
        },
        "id": "5QNlF1BjX4AV",
        "outputId": "c4bbfb53-82c6-4813-c443-67e2fe917103"
      },
      "execution_count": 223,
      "outputs": [
        {
          "output_type": "stream",
          "name": "stdout",
          "text": [
            "              precision    recall  f1-score   support\n",
            "\n",
            "           0       0.83      0.87      0.85        23\n",
            "           1       0.86      0.82      0.84        22\n",
            "\n",
            "    accuracy                           0.84        45\n",
            "   macro avg       0.85      0.84      0.84        45\n",
            "weighted avg       0.84      0.84      0.84        45\n",
            "\n",
            "[[20  3]\n",
            " [ 4 18]]\n",
            "LR accuracy: 84.44%\n"
          ]
        }
      ]
    },
    {
      "cell_type": "markdown",
      "source": [
        "2] K-Nearest Neighbour (KNN)"
      ],
      "metadata": {
        "id": "MEN5A2Q3Yu7n"
      }
    },
    {
      "cell_type": "code",
      "source": [
        "scoreListknn = []\n",
        "for i in range(1,21):\n",
        "    KNclassifier = KNeighborsClassifier(n_neighbors = i)\n",
        "    KNclassifier.fit(X_train, y_train)\n",
        "    scoreListknn.append(KNclassifier.score(X_test, y_test))\n",
        "    \n",
        "plt.plot(range(1,21), scoreListknn)\n",
        "plt.xticks(np.arange(1,21,1))\n",
        "plt.xlabel(\"K value\")\n",
        "plt.ylabel(\"Score\")\n",
        "plt.show()\n",
        "KNAcc = max(scoreListknn)\n",
        "print(\"KNN best accuracy: {:.2f}%\".format(KNAcc*100))"
      ],
      "metadata": {
        "colab": {
          "base_uri": "https://localhost:8080/",
          "height": 302
        },
        "id": "XT5p2kQMYG_U",
        "outputId": "47204ea0-8379-4849-8bd5-94661e27b7af"
      },
      "execution_count": 224,
      "outputs": [
        {
          "output_type": "display_data",
          "data": {
            "text/plain": [
              "<Figure size 432x288 with 1 Axes>"
            ],
            "image/png": "[encoded data removed]"
          },
          "metadata": {}
        },
        {
          "output_type": "stream",
          "name": "stdout",
          "text": [
            "KNN best accuracy: 88.89%\n"
          ]
        }
      ]
    },
    {
      "cell_type": "markdown",
      "source": [
        "3] Support Vector Machine (SVM)"
      ],
      "metadata": {
        "id": "vRM6S0C2ZCev"
      }
    },
    {
      "cell_type": "code",
      "source": [
        "SVCclassifier = SVC(kernel='rbf', max_iter=500)\n",
        "SVCclassifier.fit(X_train, y_train)\n",
        "\n",
        "y_pred = SVCclassifier.predict(X_test)\n",
        "\n",
        "print(classification_report(y_test, y_pred))\n",
        "print(confusion_matrix(y_test, y_pred))\n",
        "\n",
        "from sklearn.metrics import accuracy_score\n",
        "SVCAcc = accuracy_score(y_pred,y_test)\n",
        "print('SVC accuracy: {:.2f}%'.format(SVCAcc*100))"
      ],
      "metadata": {
        "colab": {
          "base_uri": "https://localhost:8080/"
        },
        "id": "V4fiGQ90Yv6W",
        "outputId": "964c51b9-75a4-4c9b-9162-e0d57424309e"
      },
      "execution_count": 225,
      "outputs": [
        {
          "output_type": "stream",
          "name": "stdout",
          "text": [
            "              precision    recall  f1-score   support\n",
            "\n",
            "           0       0.87      0.87      0.87        23\n",
            "           1       0.86      0.86      0.86        22\n",
            "\n",
            "    accuracy                           0.87        45\n",
            "   macro avg       0.87      0.87      0.87        45\n",
            "weighted avg       0.87      0.87      0.87        45\n",
            "\n",
            "[[20  3]\n",
            " [ 3 19]]\n",
            "SVC accuracy: 86.67%\n"
          ]
        }
      ]
    },
    {
      "cell_type": "markdown",
      "source": [
        "4] Naive Bayes"
      ],
      "metadata": {
        "id": "EeRo0_BqZGX1"
      }
    },
    {
      "cell_type": "code",
      "source": [
        "# Categorical NB\n",
        "NBclassifier1 = CategoricalNB()\n",
        "NBclassifier1.fit(X_train, y_train)\n",
        "\n",
        "y_pred = NBclassifier1.predict(X_test)\n",
        "\n",
        "print(classification_report(y_test, y_pred))\n",
        "print(confusion_matrix(y_test, y_pred))\n",
        "\n",
        "from sklearn.metrics import accuracy_score\n",
        "NBAcc1 = accuracy_score(y_pred,y_test)\n",
        "print('Categorical Naive Bayes accuracy: {:.2f}%'.format(NBAcc1*100))"
      ],
      "metadata": {
        "colab": {
          "base_uri": "https://localhost:8080/"
        },
        "id": "xlCqbxZ0ZDYg",
        "outputId": "96425b05-e553-4637-dcac-766c6a5edad3"
      },
      "execution_count": 226,
      "outputs": [
        {
          "output_type": "stream",
          "name": "stdout",
          "text": [
            "              precision    recall  f1-score   support\n",
            "\n",
            "           0       0.80      0.70      0.74        23\n",
            "           1       0.72      0.82      0.77        22\n",
            "\n",
            "    accuracy                           0.76        45\n",
            "   macro avg       0.76      0.76      0.76        45\n",
            "weighted avg       0.76      0.76      0.75        45\n",
            "\n",
            "[[16  7]\n",
            " [ 4 18]]\n",
            "Categorical Naive Bayes accuracy: 75.56%\n"
          ]
        }
      ]
    },
    {
      "cell_type": "code",
      "source": [
        "# Gaussian NB\n",
        "NBclassifier2 = GaussianNB()\n",
        "NBclassifier2.fit(X_train, y_train)\n",
        "\n",
        "y_pred = NBclassifier2.predict(X_test)\n",
        "\n",
        "print(classification_report(y_test, y_pred))\n",
        "print(confusion_matrix(y_test, y_pred))\n",
        "\n",
        "from sklearn.metrics import accuracy_score\n",
        "NBAcc2 = accuracy_score(y_pred,y_test)\n",
        "print('Gaussian Naive Bayes accuracy: {:.2f}%'.format(NBAcc2*100))"
      ],
      "metadata": {
        "colab": {
          "base_uri": "https://localhost:8080/"
        },
        "id": "CetSUlbBZd1A",
        "outputId": "a24b8f2c-41ff-474a-a590-bb372a4fcde0"
      },
      "execution_count": 227,
      "outputs": [
        {
          "output_type": "stream",
          "name": "stdout",
          "text": [
            "              precision    recall  f1-score   support\n",
            "\n",
            "           0       0.65      0.96      0.77        23\n",
            "           1       0.91      0.45      0.61        22\n",
            "\n",
            "    accuracy                           0.71        45\n",
            "   macro avg       0.78      0.71      0.69        45\n",
            "weighted avg       0.78      0.71      0.69        45\n",
            "\n",
            "[[22  1]\n",
            " [12 10]]\n",
            "Gaussian Naive Bayes accuracy: 71.11%\n"
          ]
        }
      ]
    },
    {
      "cell_type": "markdown",
      "source": [
        "5] Decision Tree"
      ],
      "metadata": {
        "id": "2hgjIC3AZsVq"
      }
    },
    {
      "cell_type": "code",
      "source": [
        "scoreListDT = []\n",
        "for i in range(2,21):\n",
        "    DTclassifier = DecisionTreeClassifier(max_leaf_nodes=i)\n",
        "    DTclassifier.fit(X_train, y_train)\n",
        "    scoreListDT.append(DTclassifier.score(X_test, y_test))\n",
        "    \n",
        "plt.plot(range(2,21), scoreListDT)\n",
        "plt.xticks(np.arange(2,21,1))\n",
        "plt.xlabel(\"Leaf\")\n",
        "plt.ylabel(\"Score\")\n",
        "plt.show()\n",
        "DTAcc = max(scoreListDT)\n",
        "print(\"Decision Tree Accuracy: {:.2f}%\".format(DTAcc*100))"
      ],
      "metadata": {
        "colab": {
          "base_uri": "https://localhost:8080/",
          "height": 302
        },
        "id": "31Dagbf1Zi7d",
        "outputId": "e7a89f02-b8a1-42d2-baed-add870f9cb65"
      },
      "execution_count": 228,
      "outputs": [
        {
          "output_type": "display_data",
          "data": {
            "text/plain": [
              "<Figure size 432x288 with 1 Axes>"
            ],
            "image/png": "[encoded data removed]"
          },
          "metadata": {}
        },
        {
          "output_type": "stream",
          "name": "stdout",
          "text": [
            "Decision Tree Accuracy: 77.78%\n"
          ]
        }
      ]
    },
    {
      "cell_type": "markdown",
      "source": [
        "6] Random Forest"
      ],
      "metadata": {
        "id": "eLMjObT0Z07g"
      }
    },
    {
      "cell_type": "code",
      "source": [
        "scoreListRF = []\n",
        "for i in range(2,25):\n",
        "    RFclassifier = RandomForestClassifier(n_estimators = 1000, random_state = 1, max_leaf_nodes=i)\n",
        "    RFclassifier.fit(X_train, y_train)\n",
        "    scoreListRF.append(RFclassifier.score(X_test, y_test))\n",
        "    \n",
        "plt.plot(range(2,25), scoreListRF)\n",
        "plt.xticks(np.arange(2,25,1))\n",
        "plt.xlabel(\"RF Value\")\n",
        "plt.ylabel(\"Score\")\n",
        "plt.show()\n",
        "RFAcc = max(scoreListRF)\n",
        "print(\"Random Forest Accuracy:  {:.2f}%\".format(RFAcc*100))"
      ],
      "metadata": {
        "colab": {
          "base_uri": "https://localhost:8080/",
          "height": 302
        },
        "id": "rYxXFvEnZtHU",
        "outputId": "3e907430-9e85-4a70-f59a-6fec5bd17693"
      },
      "execution_count": 229,
      "outputs": [
        {
          "output_type": "display_data",
          "data": {
            "text/plain": [
              "<Figure size 432x288 with 1 Axes>"
            ],
            "image/png": "[encoded data removed]"
          },
          "metadata": {}
        },
        {
          "output_type": "stream",
          "name": "stdout",
          "text": [
            "Random Forest Accuracy:  84.44%\n"
          ]
        }
      ]
    },
    {
      "cell_type": "markdown",
      "source": [
        "7] Gradient Boosting"
      ],
      "metadata": {
        "id": "bYf08-y8Z_Fi"
      }
    },
    {
      "cell_type": "code",
      "source": [
        "paramsGB={'n_estimators':[100,200,300,400,500],\n",
        "      'max_depth':[1,2,3,4,5],\n",
        "      'subsample':[0.5,1],\n",
        "      'max_leaf_nodes':[2,5,10,20,30,40,50]}"
      ],
      "metadata": {
        "id": "gtkvBKJOZ11r"
      },
      "execution_count": 230,
      "outputs": []
    },
    {
      "cell_type": "code",
      "source": [
        "GB = RandomizedSearchCV(GradientBoostingClassifier(), paramsGB, cv=20)\n",
        "GB.fit(X_train, y_train)"
      ],
      "metadata": {
        "colab": {
          "base_uri": "https://localhost:8080/"
        },
        "id": "HjjF-kSwaFSQ",
        "outputId": "0a487639-b269-4816-9935-fe767ff6df62"
      },
      "execution_count": 231,
      "outputs": [
        {
          "output_type": "execute_result",
          "data": {
            "text/plain": [
              "RandomizedSearchCV(cv=20, estimator=GradientBoostingClassifier(),\n",
              "                   param_distributions={'max_depth': [1, 2, 3, 4, 5],\n",
              "                                        'max_leaf_nodes': [2, 5, 10, 20, 30, 40,\n",
              "                                                           50],\n",
              "                                        'n_estimators': [100, 200, 300, 400,\n",
              "                                                         500],\n",
              "                                        'subsample': [0.5, 1]})"
            ]
          },
          "metadata": {},
          "execution_count": 231
        }
      ]
    },
    {
      "cell_type": "code",
      "source": [
        "print(GB.best_estimator_)\n",
        "print(GB.best_score_)\n",
        "print(GB.best_params_)\n",
        "print(GB.best_index_)"
      ],
      "metadata": {
        "colab": {
          "base_uri": "https://localhost:8080/"
        },
        "id": "0sGhgEokaI-_",
        "outputId": "6b360a2a-88d5-40c2-9937-a38af34533f2"
      },
      "execution_count": 232,
      "outputs": [
        {
          "output_type": "stream",
          "name": "stdout",
          "text": [
            "GradientBoostingClassifier(max_depth=4, max_leaf_nodes=20, n_estimators=200,\n",
            "                           subsample=0.5)\n",
            "0.8104166666666668\n",
            "{'subsample': 0.5, 'n_estimators': 200, 'max_leaf_nodes': 20, 'max_depth': 4}\n",
            "1\n"
          ]
        }
      ]
    },
    {
      "cell_type": "code",
      "source": [
        "GBclassifier = GradientBoostingClassifier(subsample=0.5, n_estimators=400, max_depth=4, max_leaf_nodes=10)\n",
        "GBclassifier.fit(X_train, y_train)\n",
        "\n",
        "y_pred = GBclassifier.predict(X_test)\n",
        "\n",
        "print(classification_report(y_test, y_pred))\n",
        "print(confusion_matrix(y_test, y_pred))\n",
        "\n",
        "from sklearn.metrics import accuracy_score\n",
        "GBAcc = accuracy_score(y_pred,y_test)\n",
        "print('Gradient Boosting accuracy: {:.2f}%'.format(GBAcc*100))"
      ],
      "metadata": {
        "colab": {
          "base_uri": "https://localhost:8080/"
        },
        "id": "Ktqwtif0aL14",
        "outputId": "d40d72a1-c82c-4bfc-b7b4-b5dec89c80b7"
      },
      "execution_count": 233,
      "outputs": [
        {
          "output_type": "stream",
          "name": "stdout",
          "text": [
            "              precision    recall  f1-score   support\n",
            "\n",
            "           0       0.79      0.96      0.86        23\n",
            "           1       0.94      0.73      0.82        22\n",
            "\n",
            "    accuracy                           0.84        45\n",
            "   macro avg       0.86      0.84      0.84        45\n",
            "weighted avg       0.86      0.84      0.84        45\n",
            "\n",
            "[[22  1]\n",
            " [ 6 16]]\n",
            "Gradient Boosting accuracy: 84.44%\n"
          ]
        }
      ]
    },
    {
      "cell_type": "markdown",
      "source": [
        "Step 4 ======> Model Comparison:"
      ],
      "metadata": {
        "id": "ecwHHeezad8j"
      }
    },
    {
      "cell_type": "code",
      "source": [
        "compare = pd.DataFrame({'Model': ['Logistic Regression', 'K Neighbors', \n",
        "                                  'SVM', 'Categorical NB', \n",
        "                                  'Gaussian NB', 'Decision Tree', \n",
        "                                  'Random Forest', 'Gradient Boost'], \n",
        "                        'Accuracy': [LRAcc*100, KNAcc*100, SVCAcc*100, \n",
        "                                     NBAcc1*100, NBAcc2*100, DTAcc*100, \n",
        "                                     RFAcc*100, GBAcc*100]})\n",
        "compare.sort_values(by='Accuracy', ascending=False)"
      ],
      "metadata": {
        "colab": {
          "base_uri": "https://localhost:8080/",
          "height": 300
        },
        "id": "klnUQ1DdaL5J",
        "outputId": "f2951795-9a53-4c00-9cd9-35e5ff6d0cbb"
      },
      "execution_count": 234,
      "outputs": [
        {
          "output_type": "execute_result",
          "data": {
            "text/plain": [
              "                 Model   Accuracy\n",
              "1          K Neighbors  88.888889\n",
              "2                  SVM  86.666667\n",
              "0  Logistic Regression  84.444444\n",
              "6        Random Forest  84.444444\n",
              "7       Gradient Boost  84.444444\n",
              "5        Decision Tree  77.777778\n",
              "3       Categorical NB  75.555556\n",
              "4          Gaussian NB  71.111111"
            ],
            "text/html": [
              "\n",
              "  <div id=\"df-6423b6a5-74a6-42df-b033-2bdc193600e8\">\n",
              "    <div class=\"colab-df-container\">\n",
              "      <div>\n",
              "<style scoped>\n",
              "    .dataframe tbody tr th:only-of-type {\n",
              "        vertical-align: middle;\n",
              "    }\n",
              "\n",
              "    .dataframe tbody tr th {\n",
              "        vertical-align: top;\n",
              "    }\n",
              "\n",
              "    .dataframe thead th {\n",
              "        text-align: right;\n",
              "    }\n",
              "</style>\n",
              "<table border=\"1\" class=\"dataframe\">\n",
              "  <thead>\n",
              "    <tr style=\"text-align: right;\">\n",
              "      <th></th>\n",
              "      <th>Model</th>\n",
              "      <th>Accuracy</th>\n",
              "    </tr>\n",
              "  </thead>\n",
              "  <tbody>\n",
              "    <tr>\n",
              "      <th>1</th>\n",
              "      <td>K Neighbors</td>\n",
              "      <td>88.888889</td>\n",
              "    </tr>\n",
              "    <tr>\n",
              "      <th>2</th>\n",
              "      <td>SVM</td>\n",
              "      <td>86.666667</td>\n",
              "    </tr>\n",
              "    <tr>\n",
              "      <th>0</th>\n",
              "      <td>Logistic Regression</td>\n",
              "      <td>84.444444</td>\n",
              "    </tr>\n",
              "    <tr>\n",
              "      <th>6</th>\n",
              "      <td>Random Forest</td>\n",
              "      <td>84.444444</td>\n",
              "    </tr>\n",
              "    <tr>\n",
              "      <th>7</th>\n",
              "      <td>Gradient Boost</td>\n",
              "      <td>84.444444</td>\n",
              "    </tr>\n",
              "    <tr>\n",
              "      <th>5</th>\n",
              "      <td>Decision Tree</td>\n",
              "      <td>77.777778</td>\n",
              "    </tr>\n",
              "    <tr>\n",
              "      <th>3</th>\n",
              "      <td>Categorical NB</td>\n",
              "      <td>75.555556</td>\n",
              "    </tr>\n",
              "    <tr>\n",
              "      <th>4</th>\n",
              "      <td>Gaussian NB</td>\n",
              "      <td>71.111111</td>\n",
              "    </tr>\n",
              "  </tbody>\n",
              "</table>\n",
              "</div>\n",
              "      <button class=\"colab-df-convert\" onclick=\"convertToInteractive('df-6423b6a5-74a6-42df-b033-2bdc193600e8')\"\n",
              "              title=\"Convert this dataframe to an interactive table.\"\n",
              "              style=\"display:none;\">\n",
              "        \n",
              "  <svg xmlns=\"http://www.w3.org/2000/svg\" height=\"24px\"viewBox=\"0 0 24 24\"\n",
              "       width=\"24px\">\n",
              "    <path d=\"M0 0h24v24H0V0z\" fill=\"none\"/>\n",
              "    <path d=\"M18.56 5.44l.94 2.06.94-2.06 2.06-.94-2.06-.94-.94-2.06-.94 2.06-2.06.94zm-11 1L8.5 8.5l.94-2.06 2.06-.94-2.06-.94L8.5 2.5l-.94 2.06-2.06.94zm10 10l.94 2.06.94-2.06 2.06-.94-2.06-.94-.94-2.06-.94 2.06-2.06.94z\"/><path d=\"M17.41 7.96l-1.37-1.37c-.4-.4-.92-.59-1.43-.59-.52 0-1.04.2-1.43.59L10.3 9.45l-7.72 7.72c-.78.78-.78 2.05 0 2.83L4 21.41c.39.39.9.59 1.41.59.51 0 1.02-.2 1.41-.59l7.78-7.78 2.81-2.81c.8-.78.8-2.07 0-2.86zM5.41 20L4 18.59l7.72-7.72 1.47 1.35L5.41 20z\"/>\n",
              "  </svg>\n",
              "      </button>\n",
              "      \n",
              "  <style>\n",
              "    .colab-df-container {\n",
              "      display:flex;\n",
              "      flex-wrap:wrap;\n",
              "      gap: 12px;\n",
              "    }\n",
              "\n",
              "    .colab-df-convert {\n",
              "      background-color: #E8F0FE;\n",
              "      border: none;\n",
              "      border-radius: 50%;\n",
              "      cursor: pointer;\n",
              "      display: none;\n",
              "      fill: #1967D2;\n",
              "      height: 32px;\n",
              "      padding: 0 0 0 0;\n",
              "      width: 32px;\n",
              "    }\n",
              "\n",
              "    .colab-df-convert:hover {\n",
              "      background-color: #E2EBFA;\n",
              "      box-shadow: 0px 1px 2px rgba(60, 64, 67, 0.3), 0px 1px 3px 1px rgba(60, 64, 67, 0.15);\n",
              "      fill: #174EA6;\n",
              "    }\n",
              "\n",
              "    [theme=dark] .colab-df-convert {\n",
              "      background-color: #3B4455;\n",
              "      fill: #D2E3FC;\n",
              "    }\n",
              "\n",
              "    [theme=dark] .colab-df-convert:hover {\n",
              "      background-color: #434B5C;\n",
              "      box-shadow: 0px 1px 3px 1px rgba(0, 0, 0, 0.15);\n",
              "      filter: drop-shadow(0px 1px 2px rgba(0, 0, 0, 0.3));\n",
              "      fill: #FFFFFF;\n",
              "    }\n",
              "  </style>\n",
              "\n",
              "      <script>\n",
              "        const buttonEl =\n",
              "          document.querySelector('#df-6423b6a5-74a6-42df-b033-2bdc193600e8 button.colab-df-convert');\n",
              "        buttonEl.style.display =\n",
              "          google.colab.kernel.accessAllowed ? 'block' : 'none';\n",
              "\n",
              "        async function convertToInteractive(key) {\n",
              "          const element = document.querySelector('#df-6423b6a5-74a6-42df-b033-2bdc193600e8');\n",
              "          const dataTable =\n",
              "            await google.colab.kernel.invokeFunction('convertToInteractive',\n",
              "                                                     [key], {});\n",
              "          if (!dataTable) return;\n",
              "\n",
              "          const docLinkHtml = 'Like what you see? Visit the ' +\n",
              "            '<a target=\"_blank\" href=https://colab.research.google.com/notebooks/data_table.ipynb>data table notebook</a>'\n",
              "            + ' to learn more about interactive tables.';\n",
              "          element.innerHTML = '';\n",
              "          dataTable['output_type'] = 'display_data';\n",
              "          await google.colab.output.renderOutput(dataTable, element);\n",
              "          const docLink = document.createElement('div');\n",
              "          docLink.innerHTML = docLinkHtml;\n",
              "          element.appendChild(docLink);\n",
              "        }\n",
              "      </script>\n",
              "    </div>\n",
              "  </div>\n",
              "  "
            ]
          },
          "metadata": {},
          "execution_count": 234
        }
      ]
    },
    {
      "cell_type": "code",
      "source": [
        ""
      ],
      "metadata": {
        "id": "zZqazfukajUx"
      },
      "execution_count": 234,
      "outputs": []
    }
  ]
}